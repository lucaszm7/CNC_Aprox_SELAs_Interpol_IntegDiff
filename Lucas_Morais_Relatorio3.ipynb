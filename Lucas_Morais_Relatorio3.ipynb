{
  "nbformat": 4,
  "nbformat_minor": 0,
  "metadata": {
    "colab": {
      "name": "Lucas_Morais_Relatorio3.ipynb",
      "provenance": [],
      "collapsed_sections": [
        "9UrXwMDAeDNG",
        "U0gnVsbYpB6O",
        "9F7Tr1hvgeTc",
        "-mc0bSWVifDL"
      ],
      "toc_visible": true,
      "authorship_tag": "ABX9TyN65xpUubSKw7rr2PXoN40H",
      "include_colab_link": true
    },
    "kernelspec": {
      "name": "python3",
      "display_name": "Python 3"
    },
    "language_info": {
      "name": "python"
    }
  },
  "cells": [
    {
      "cell_type": "markdown",
      "metadata": {
        "id": "view-in-github",
        "colab_type": "text"
      },
      "source": [
        "<a href=\"https://colab.research.google.com/github/lucaszm7/CNC_Aprox_SELAs_Interpol_IntegDiff/blob/main/Lucas_Morais_Relatorio3.ipynb\" target=\"_parent\"><img src=\"https://colab.research.google.com/assets/colab-badge.svg\" alt=\"Open In Colab\"/></a>"
      ]
    },
    {
      "cell_type": "markdown",
      "metadata": {
        "id": "9UrXwMDAeDNG"
      },
      "source": [
        "# **Bibliotecas**\n"
      ]
    },
    {
      "cell_type": "code",
      "metadata": {
        "id": "fi0lgc97d_eS"
      },
      "source": [
        "#Bibliotecas Aqui!\n",
        "import matplotlib.pyplot as plt\n",
        "import numpy as np\n",
        "import math\n",
        "from sympy import *"
      ],
      "execution_count": null,
      "outputs": []
    },
    {
      "cell_type": "markdown",
      "metadata": {
        "id": "gA2njU98-UKv"
      },
      "source": [
        "### Função auxiliar para o plot das funções"
      ]
    },
    {
      "cell_type": "code",
      "metadata": {
        "id": "xW9-kt7yhWJ1"
      },
      "source": [
        "def plot_value_from_interpolation(m, x, y, z, interpol_method, n_ptos=100, Xlabel='X', Ylabel='Y', title='Questão XXX', colors=['blue', 'green', 'brown', 'orange', 'red'], extrapol=0):\n",
        "  \n",
        "  plt.scatter(x, y, c='black')\n",
        "\n",
        "  innerpol = min(min(x), min(z))\n",
        "  extrapol = max(max(x), max(z))\n",
        "\n",
        "  curva = np.linspace(x[0], extrapol, n_ptos)\n",
        "  for m_index in range(len(m)):\n",
        "    valores = [interpol_method(m[m_index], x, y, k, 'value') for k in curva]\n",
        "\n",
        "    line_label = str(m[m_index]) + ' grau'\n",
        "    # color=colors[m_index], \n",
        "    plt.plot(curva, valores, linestyle='-', label=line_label)\n",
        "\n",
        "  plt.xlabel(Xlabel)\n",
        "  plt.ylabel(Ylabel)\n",
        "  plt.title(title)\n",
        "  plt.grid()\n",
        "\n",
        "  plt.legend()\n",
        "  plt.show()"
      ],
      "execution_count": null,
      "outputs": []
    },
    {
      "cell_type": "code",
      "metadata": {
        "id": "WgGzxReTma7t"
      },
      "source": [
        "def plot_function_from_interpolation(m, x, y, z, interpol_method, n_ptos=100, Xlabel='X', Ylabel='Y', title='Questão XXX', colors=['blue', 'green', 'brown', 'orange', 'red']):\n",
        "  plt.scatter(x, y, c='black')\n",
        "\n",
        "  innerpol = min(min(x), min(z))\n",
        "  extrapol = max(max(x), max(z))\n",
        "\n",
        "  curva = np.linspace(innerpol, extrapol, n_ptos)\n",
        "\n",
        "  for m_index in range(len(m)):\n",
        "\n",
        "    expr = lambdify(symbols('z'), interpol_method(m[m_index], x, y, z[-1], 'function'), 'math')\n",
        "    valores = [expr(k) for k in curva]\n",
        "    line_label = (str(m[m_index]) + ' grau - para ' + str(z[-1]))\n",
        "    plt.plot(curva, valores, linestyle='-', label=line_label)\n",
        "\n",
        "  plt.xlabel(Xlabel)\n",
        "  plt.ylabel(Ylabel)\n",
        "  plt.title(title)\n",
        "  plt.grid()\n",
        "\n",
        "  plt.legend()\n",
        "  plt.show()"
      ],
      "execution_count": null,
      "outputs": []
    },
    {
      "cell_type": "code",
      "metadata": {
        "id": "DBQf5P9dflM5"
      },
      "source": [
        "def plot_spline(x, y, interpol_method, n_ptos=100, Xlabel='X', Ylabel='Y', title='Questão XXX'):\n",
        "  \n",
        "  plt.scatter(x, y, c='red')\n",
        "\n",
        "  curva = np.linspace(min(x), max(x), n_ptos)\n",
        "\n",
        "  for i in range(len(x) - 1):\n",
        "    expr = lambdify(symbols('x'), interpol_method(x, y)[i], 'math')\n",
        "    valores = [expr(k) for k in curva]\n",
        "    line_label = (str(i+1) + ' interval')\n",
        "    plt.plot(curva, valores, linestyle='-', label=line_label)\n",
        "\n",
        "  plt.xlabel(Xlabel)\n",
        "  plt.ylabel(Ylabel)\n",
        "  plt.title(title)\n",
        "  plt.grid()\n",
        "\n",
        "  plt.legend()\n",
        "  plt.show()"
      ],
      "execution_count": null,
      "outputs": []
    },
    {
      "cell_type": "code",
      "metadata": {
        "id": "h_j_camMZKrO"
      },
      "source": [
        "def plot_scatter_points(x, y, Xlabel='X', Ylabel='Y', color='cyan', title='Questão XXX'):\n",
        "\n",
        "  plt.scatter(x, y, c=color)\n",
        "\n",
        "  plt.xlabel('x')\n",
        "  plt.ylabel('y')\n",
        "  plt.title(title)\n",
        "  plt.grid()\n",
        "\n",
        "  plt.show()"
      ],
      "execution_count": null,
      "outputs": []
    },
    {
      "cell_type": "code",
      "metadata": {
        "id": "dwnk0h9ORCmM"
      },
      "source": [
        "def plot_squared_min(x, y, interpol_method, a_type, n_ptos=100, Xlabel='X', Ylabel='Y', title='Questão XXX'):\n",
        "  \n",
        "  plt.scatter(x, y, c='red')\n",
        "\n",
        "  curva = np.linspace(min(x), max(x), n_ptos)\n",
        "\n",
        "  for b_type in a_type:\n",
        "    expr = lambdify(symbols('x'), interpol_method(x, y, b_type), 'math')\n",
        "    valores = [expr(k) for k in curva]\n",
        "    line_label = (b_type)\n",
        "    plt.plot(curva, valores, linestyle='-', label=line_label)\n",
        "\n",
        "  plt.xlabel(Xlabel)\n",
        "  plt.ylabel(Ylabel)\n",
        "  plt.title(title)\n",
        "  plt.grid()\n",
        "\n",
        "  plt.legend()\n",
        "  plt.show()"
      ],
      "execution_count": null,
      "outputs": []
    },
    {
      "cell_type": "markdown",
      "metadata": {
        "id": "ISsmsjguUY3C"
      },
      "source": [
        "### Funções auxiliares para truncar ou arredondar floats a uma certa precisão"
      ]
    },
    {
      "cell_type": "code",
      "metadata": {
        "id": "q-4V6X8oUf7X"
      },
      "source": [
        "def truncate(number, decimals):\n",
        "  factor = int(1 / decimals)\n",
        "  trunc = math.trunc(number * factor)\n",
        "  return (trunc / factor)"
      ],
      "execution_count": null,
      "outputs": []
    },
    {
      "cell_type": "code",
      "metadata": {
        "id": "Tmn1RxJlag5g"
      },
      "source": [
        "def round_epsilon(number, precision):\n",
        "  n_digits = int(1/precision)\n",
        "  epsilon = math.log(n_digits, 10)\n",
        "  return round(number, int(epsilon))"
      ],
      "execution_count": null,
      "outputs": []
    },
    {
      "cell_type": "code",
      "metadata": {
        "id": "5PqGWHF5j-iE"
      },
      "source": [
        "def round_epsilon_array(number, precision):\n",
        "  n_digits = int(1/precision)\n",
        "  epsilon = math.log(n_digits, 10)\n",
        "  return np.round(number, int(epsilon))"
      ],
      "execution_count": null,
      "outputs": []
    },
    {
      "cell_type": "markdown",
      "metadata": {
        "id": "U0gnVsbYpB6O"
      },
      "source": [
        "### Função auxiliar para retro substituição"
      ]
    },
    {
      "cell_type": "code",
      "metadata": {
        "id": "nUDu1iJsh86R"
      },
      "source": [
        "def retro_substituicao(matriz, b, n, triangular=\"superior\", precisao=None):\n",
        "\n",
        "  results = np.array([1] * n, dtype=np.float64)\n",
        "\n",
        "  if triangular == \"superior\":\n",
        "    if precisao is not None:\n",
        "      for i in range( n-1, -1, -1 ):\n",
        "        sum_of_line = round_epsilon(np.sum(matriz[i][i+1:n] * results[i+1:n], dtype=np.float64), precisao)\n",
        "        results[i] = round_epsilon((b[i] - sum_of_line) / matriz[i][i], precisao)\n",
        "      return results\n",
        "    else:\n",
        "      for i in range( n-1, -1, -1 ):\n",
        "        sum_of_line = np.sum(matriz[i][i+1:n] * results[i+1:n], dtype=np.float64)\n",
        "        results[i] = (b[i] - sum_of_line) / matriz[i][i]\n",
        "      return results\n",
        "\n",
        "  else: # inferior\n",
        "    if precisao is not None:\n",
        "      for i in range( 0, n, 1 ):\n",
        "        sum_of_line = round_epsilon(np.sum(matriz[i][0:i] * results[0:i], dtype=np.float64), precisao)\n",
        "        results[i] = round_epsilon((b[i] - sum_of_line) / matriz[i][i], precisao)\n",
        "      return results\n",
        "    else:\n",
        "      for i in range( 0, n, 1 ):\n",
        "        sum_of_line = np.sum(matriz[i][0:i] * results[0:i], dtype=np.float64)\n",
        "        results[i] = (b[i] - sum_of_line) / matriz[i][i]\n",
        "      return results"
      ],
      "execution_count": null,
      "outputs": []
    },
    {
      "cell_type": "markdown",
      "metadata": {
        "id": "9F7Tr1hvgeTc"
      },
      "source": [
        "### Classe auxiliar para representação de máquinas"
      ]
    },
    {
      "cell_type": "code",
      "metadata": {
        "id": "syI1nAsWgbkB"
      },
      "source": [
        "class Maquina:\n",
        "  def __init__(self, mantissa, base, menor_expoente, maior_expoente):\n",
        "    self.mantissa = mantissa\n",
        "    self.base = mantissa\n",
        "    self.menor_expoente = menor_expoente\n",
        "    self.maior_expoente = maior_expoente"
      ],
      "execution_count": null,
      "outputs": []
    },
    {
      "cell_type": "markdown",
      "metadata": {
        "id": "BDZxf0dhvu13"
      },
      "source": [
        "## Função auxiliar, Eliminação de Gauss"
      ]
    },
    {
      "cell_type": "code",
      "metadata": {
        "id": "h8GdLoEawgbd"
      },
      "source": [
        "def retro_substituicao(matriz, b, n, triangular=\"superior\", precisao=None):\n",
        "\n",
        "  results = np.array([1] * n, dtype=np.float64)\n",
        "\n",
        "  if triangular == \"superior\":\n",
        "    if precisao is not None:\n",
        "      for i in range( n-1, -1, -1 ):\n",
        "        sum_of_line = round_epsilon(np.sum(matriz[i][i+1:n] * results[i+1:n], dtype=np.float64), precisao)\n",
        "        results[i] = round_epsilon((b[i] - sum_of_line) / matriz[i][i], precisao)\n",
        "      return results\n",
        "    else:\n",
        "      for i in range( n-1, -1, -1 ):\n",
        "        sum_of_line = np.sum(matriz[i][i+1:n] * results[i+1:n], dtype=np.float64)\n",
        "        results[i] = (b[i] - sum_of_line) / matriz[i][i]\n",
        "      return results\n",
        "\n",
        "  else: # inferior\n",
        "    if precisao is not None:\n",
        "      for i in range( 0, n, 1 ):\n",
        "        sum_of_line = round_epsilon(np.sum(matriz[i][0:i] * results[0:i], dtype=np.float64), precisao)\n",
        "        results[i] = round_epsilon((b[i] - sum_of_line) / matriz[i][i], precisao)\n",
        "      return results\n",
        "    else:\n",
        "      for i in range( 0, n, 1 ):\n",
        "        sum_of_line = np.sum(matriz[i][0:i] * results[0:i], dtype=np.float64)\n",
        "        results[i] = (b[i] - sum_of_line) / matriz[i][i]\n",
        "      return results"
      ],
      "execution_count": null,
      "outputs": []
    },
    {
      "cell_type": "code",
      "metadata": {
        "id": "FIOfP--jw1eW"
      },
      "source": [
        "def gauss_elimination(matriz, n, pivotamento=\"nenhum\"):\n",
        "\n",
        "# Escalonamento\n",
        "\n",
        "  # Vai em todas colunas\n",
        "  for j in range(0, n):\n",
        "\n",
        "    # ==========================================================================\n",
        "    # PIVOTAMENTO TOTAL\n",
        "    # ==========================================================================\n",
        "    if pivotamento == \"total\":\n",
        "      # Seleciona como pivo o maior elementro da matriz\n",
        "      maior_elemento = matriz[j][j]\n",
        "      i_maior_elemento, j_maior_elemento = j, j\n",
        "\n",
        "      # Vai procurar em toda matriz para encontrar o amior elemento\n",
        "      for i in range(j, n, 1):\n",
        "        for j_index in range(j, n, 1):\n",
        "          if math.fabs(matriz[i][j_index]) > math.fabs(maior_elemento):\n",
        "            i_maior_elemento, j_maior_elemento = i, j_index\n",
        "            maior_elemento = matriz[i][j_index]\n",
        "\n",
        "      # Swap rows\n",
        "      matriz[[j, i_maior_elemento]] = matriz[[i_maior_elemento, j]]\n",
        "      # Swap collums\n",
        "      matriz[: , [j, j_maior_elemento]] = matriz[: , [j_maior_elemento, j]]\n",
        "\n",
        "      pivo = matriz[j][j]\n",
        "      if pivo == 0:\n",
        "        print(\"Invalid matriz, collum j == 0...\")\n",
        "        return\n",
        "\n",
        "    # ==========================================================================\n",
        "    # PIVOTAMENTO PARCIAL\n",
        "    # ==========================================================================\n",
        "    elif pivotamento == \"parcial\":\n",
        "      # Seleciona como pivo o maior elementro da coluna j\n",
        "      # print(\"Matriz: \\n\", matriz)\n",
        "      maior_elemento = matriz[j][j]\n",
        "      for i in range(j+1, n, 1):\n",
        "        # print(\"Maior elemento: \", maior_elemento)\n",
        "        # print(\"Matriz[i][j]: \", matriz[i][j])\n",
        "        if  math.fabs(matriz[i][j]) > math.fabs(maior_elemento):\n",
        "          # Swap linha com maior elemento\n",
        "          matriz[[i, j]] = matriz[[j, i]]\n",
        "          # print(\"Matriz swapped: \\n\", matriz)\n",
        "          maior_elemento = matriz[j][j]\n",
        "    \n",
        "      pivo = matriz[j][j]\n",
        "      # print(\"Pivo: \", pivo)\n",
        "      if pivo == 0:\n",
        "        print(\"Invalid matriz, collum j == 0...\")\n",
        "        return\n",
        "\n",
        "    # ==========================================================================\n",
        "    # SEM PIVOTAMENTO\n",
        "    # ==========================================================================\n",
        "    elif pivotamento == \"nenhum\":\n",
        "      # Seleciona pivo\n",
        "      pivo = matriz[j][j]\n",
        "      # print(\"pivo == \", pivo)\n",
        "      # Swap com a próxima linha até pivo != 0\n",
        "      index_pivo = j + 1\n",
        "      while pivo == 0:\n",
        "        # print(\"pivo == 0, swapping rows\")\n",
        "        matriz[[j, index_pivo]] = matriz[[index_pivo, j]]\n",
        "        # print(\"Matrix swapped\\n\", matriz)\n",
        "        pivo = matriz[j][j]\n",
        "        # print(\"new pivo = \", pivo)\n",
        "        index_pivo += 1\n",
        "        if index_pivo > n:\n",
        "          print(\"Invalid matriz...\")\n",
        "          return\n",
        "\n",
        "    # pivotamento errado\n",
        "    else:\n",
        "      print(\"invalid pivotamento...\")\n",
        "      return\n",
        "\n",
        "    # ==========================================================================\n",
        "    # Constroi linha L'\n",
        "    # Vai da linha j até a ultima\n",
        "    for i in range(j+1, n):\n",
        "      # Multiplicador da linha i\n",
        "      m = matriz[i][j] / pivo\n",
        "      # Linha L'i\n",
        "      matriz[i] = matriz[i] - m * matriz[j]\n",
        "\n",
        "\n",
        "# Retro Substituição\n",
        "\n",
        "  # Pega b (os resultados)\n",
        "  # fazendo a transposta da matriz\n",
        "  b = matriz.T[n]\n",
        "\n",
        "  # Retira a ultima coluna dos resultados\n",
        "  matriz = matriz[0:n+1][0:n]\n",
        "\n",
        "  # Cria o array (de tamanho n) que sera armazenado os resultados\n",
        "  results = np.array([1] * n, dtype=np.float64)\n",
        "\n",
        "  # Vai da ultima inha até a primeira\n",
        "  for i in range( n-1, -1, -1 ):\n",
        "      sum_of_line = np.sum(matriz[i][i+1:n] * results[i+1:n], dtype=np.float64)\n",
        "      results[i] = (b[i] - sum_of_line) / matriz[i][i]\n",
        "\n",
        "  return (matriz, results)"
      ],
      "execution_count": null,
      "outputs": []
    },
    {
      "cell_type": "markdown",
      "metadata": {
        "id": "-mc0bSWVifDL"
      },
      "source": [
        "# **Métodos**"
      ]
    },
    {
      "cell_type": "markdown",
      "metadata": {
        "id": "t5ahqnazi_4f"
      },
      "source": [
        "## *Forma de Lagrange*"
      ]
    },
    {
      "cell_type": "code",
      "metadata": {
        "id": "XiyGddFzjJWG"
      },
      "source": [
        "# grau, abscissas, ordenadas, valor a interpolar, retorna função ou valor em Z\n",
        "def lagrange_interpolation(m, x, y, z, return_type):\n",
        "\n",
        "  if m > len(x):\n",
        "    raise ValueError(\"Desired dregree is bigger than number of points\")\n",
        "\n",
        "  # print('===========================================')\n",
        "  # print('Desired value: ', z, ' - For ', m, ' degree')\n",
        "  # print('raw X:         ', x)\n",
        "  # print('raw Y:         ', y)\n",
        "\n",
        "  x_index = 0\n",
        "  for it in range(len(x) - 1):\n",
        "    if x[it+1] >= z:\n",
        "      x_index = it\n",
        "      break\n",
        "    else:\n",
        "      x_index = it\n",
        "  \n",
        "  it_min = it_max = x_index  \n",
        "\n",
        "  for k in range(0, m):\n",
        "    if k%2 == 0:\n",
        "      if (it_max + 1) > len(x):\n",
        "        it_min -= 1\n",
        "      else:\n",
        "        it_max += 1\n",
        "    else:\n",
        "      if (it_min - 1) < 0:\n",
        "        it_max += 1\n",
        "      else:\n",
        "        it_min -= 1\n",
        "    \n",
        "  x = x[it_min: it_max + 1]\n",
        "  y = y[it_min: it_max + 1]\n",
        "\n",
        "  m = len(x)\n",
        "  # print('sliced X:      ', x)\n",
        "  # print('sliced Y:      ', y)\n",
        "\n",
        "  if return_type == 'function':\n",
        "    z = symbols('z')\n",
        "  elif return_type == 'value':\n",
        "    z = z\n",
        "  else:\n",
        "    raise ValueError('Arg return_type is neither function or value')\n",
        "\n",
        "  r = 0 # resultado\n",
        "  for i in range(m):\n",
        "    c = 1 # cociente\n",
        "    d = 1 # dividendo\n",
        "    for j in range(m):\n",
        "      if i != j:\n",
        "        c = c * (z - x[j])\n",
        "        d = d * (x[i] - x[j])\n",
        "    r = r + (y[i] * (c / d))\n",
        "  return r"
      ],
      "execution_count": null,
      "outputs": []
    },
    {
      "cell_type": "code",
      "metadata": {
        "colab": {
          "base_uri": "https://localhost:8080/"
        },
        "id": "pI3N0p44UBNN",
        "outputId": "45e8b89a-9216-4b5e-84a1-f4c5f78d59e4"
      },
      "source": [
        "# Teste Lagrange\n",
        "lagrange_interpolation(2, [-1, 0, 2], [4, 1, -1], 1, 'value')"
      ],
      "execution_count": null,
      "outputs": [
        {
          "output_type": "execute_result",
          "data": {
            "text/plain": [
              "-0.6666666666666665"
            ]
          },
          "metadata": {},
          "execution_count": 267
        }
      ]
    },
    {
      "cell_type": "code",
      "metadata": {
        "colab": {
          "base_uri": "https://localhost:8080/",
          "height": 53
        },
        "id": "o0V9QW-WjVNc",
        "outputId": "849cbb44-b7b6-487e-a787-938ff29eac47"
      },
      "source": [
        "lagrange_interpolation(2, [-1, 0, 2], [4, 1, -1], 1, 'function')"
      ],
      "execution_count": null,
      "outputs": [
        {
          "output_type": "execute_result",
          "data": {
            "text/latex": "$\\displaystyle \\frac{4 z \\left(z - 2\\right)}{3} - \\frac{z \\left(z + 1\\right)}{6} - \\frac{\\left(z - 2\\right) \\left(z + 1\\right)}{2}$",
            "text/plain": [
              "4*z*(z - 2)/3 - z*(z + 1)/6 - (z - 2)*(z + 1)/2"
            ]
          },
          "metadata": {},
          "execution_count": 268
        }
      ]
    },
    {
      "cell_type": "markdown",
      "metadata": {
        "id": "H0Iqm0n0jKNv"
      },
      "source": [
        "## *Forma de Newton*"
      ]
    },
    {
      "cell_type": "code",
      "metadata": {
        "id": "d3mLyAK5t1vS"
      },
      "source": [
        "def d(x, y, m):\n",
        "  if len(m) == 0:\n",
        "    return 1\n",
        "  elif len(m) == 1:\n",
        "    return y[m[0]]\n",
        "  else:\n",
        "    # print('m: ', m)\n",
        "    # print('m[1:-0]: ', m[1:len(m) + 1])\n",
        "    # print('m[0:-1]: ', m[0:-1])\n",
        "    return (d(x, y, m[1:len(m) + 1]) - d(x, y, m[0:-1])) / (x[m[-1]] - x[m[0]])"
      ],
      "execution_count": null,
      "outputs": []
    },
    {
      "cell_type": "code",
      "metadata": {
        "id": "7H57hZyojNbP"
      },
      "source": [
        "# grau, abscissas, ordenadas, valor a interpolar\n",
        "def newton_interpolation(m, x, y, z, return_type):\n",
        "\n",
        "  if m > len(x):\n",
        "    raise ValueError(\"Desired dregree is bigger than number of points\")\n",
        "\n",
        "  x_index = 0\n",
        "  for it in range(len(x) - 1):\n",
        "    if x[it+1] >= z:\n",
        "      x_index = it\n",
        "      break\n",
        "    else:\n",
        "      x_index = it\n",
        "\n",
        "  it_min = it_max = x_index  \n",
        "\n",
        "  for k in range(0, m):\n",
        "    if k%2 == 0:\n",
        "      if (it_max + 1) > len(x):\n",
        "        it_min -= 1\n",
        "      else:\n",
        "        it_max += 1\n",
        "    else:\n",
        "      if (it_min - 1) < 0:\n",
        "        it_max += 1\n",
        "      else:\n",
        "        it_min -= 1\n",
        "    \n",
        "  x = x[it_min: it_max + 1]\n",
        "  y = y[it_min: it_max + 1]\n",
        "\n",
        "  m = list(range(0, len(x)))\n",
        "\n",
        "  if return_type == 'function':\n",
        "    z = symbols('z')\n",
        "  elif return_type == 'value':\n",
        "    z = z\n",
        "  else:\n",
        "    raise ValueError('Arg return_type is neither function or value')\n",
        "\n",
        "  r = 0\n",
        "  di = 0\n",
        "  dj = 1\n",
        "\n",
        "  for i in range(len(m)):\n",
        "    # print('=== i: ', i, ' ===')\n",
        "    dj = 1\n",
        "    di = d(x, y, m[0:i+1])\n",
        "    # print('di: ', di)\n",
        "    for j in range(i-1, -1, -1):\n",
        "      dj *= (z - x[j])\n",
        "      # print('dj: ', dj)\n",
        "    r += di * dj\n",
        "    # print('r: ', r)\n",
        "\n",
        "  # print('Final result: ', r)\n",
        "  return r"
      ],
      "execution_count": null,
      "outputs": []
    },
    {
      "cell_type": "code",
      "metadata": {
        "colab": {
          "base_uri": "https://localhost:8080/"
        },
        "id": "g_H6B6rHyLRo",
        "outputId": "550a3774-c3da-4814-fb22-10ebe5268ae5"
      },
      "source": [
        "# Teste Newton\n",
        "newton_interpolation(3, [-1, 0, 2], [4, 1, -1], 1, 'value')"
      ],
      "execution_count": null,
      "outputs": [
        {
          "output_type": "execute_result",
          "data": {
            "text/plain": [
              "-0.6666666666666667"
            ]
          },
          "metadata": {},
          "execution_count": 271
        }
      ]
    },
    {
      "cell_type": "code",
      "metadata": {
        "colab": {
          "base_uri": "https://localhost:8080/",
          "height": 39
        },
        "id": "7UF_8DI9jI0e",
        "outputId": "bb9945fe-08e1-4a94-b4b1-c0628081d97b"
      },
      "source": [
        "newton_interpolation(3, [-1, 0, 2], [4, 1, -1], 1, 'function')"
      ],
      "execution_count": null,
      "outputs": [
        {
          "output_type": "execute_result",
          "data": {
            "text/latex": "$\\displaystyle 0.666666666666667 z \\left(z + 1\\right) - 3.0 z + 1.0$",
            "text/plain": [
              "0.666666666666667*z*(z + 1) - 3.0*z + 1.0"
            ]
          },
          "metadata": {},
          "execution_count": 272
        }
      ]
    },
    {
      "cell_type": "markdown",
      "metadata": {
        "id": "Q82UHmSVTRcN"
      },
      "source": [
        "## *Spline Cúbica Natural*"
      ]
    },
    {
      "cell_type": "code",
      "metadata": {
        "id": "OSoqpQ69TQ6H"
      },
      "source": [
        "def natural_cubic_spline(x, y):\n",
        "  # Si(x) = ai + bi(x-xi) + ci(x-xi)^2 + di(x-xi)^3\n",
        "\n",
        "  # 1º Propriedade de continuidade, passa por todos pontos\n",
        "  # ai = f(xi)\n",
        "\n",
        "  # 2º Propriedade, o valor das splines adjacentes a um mesmo nó, tem mesmo valor\n",
        "  # f(xi+1) = f(xi) + bi*hi + ci*hi^2 + di*hi^3\n",
        "\n",
        "  # 3º A derivada primeira em nós adjacentes deve ser igual\n",
        "  # bi+1 = 3di*hi^2 + 2ci*hi + bi\n",
        "\n",
        "  # 4º A derivada segunda em nós adjacentes deve ser igual\n",
        "  # 2ci+1 = 6di*hi + 2ci\n",
        "\n",
        "  # 5º Spline cúbica *NATURAL*, a derivada segunda nos nós extremos é 0\n",
        "  # S1''(x1) = 2c1 + 6d1*h1 = 0\n",
        "  # Sn-1''(xn-1) = 2cn-1 + 6dn-1*hn-1 = 0\n",
        "\n",
        "  # =====================================================\n",
        "  # Para cada subintervalo de 1 até n, teremos uma spline\n",
        "  # ak = f(xk)\n",
        "  # bk = (f(xk) - f(xk-1) / hk + (2hk*gk + gk-1*hk)) / 6\n",
        "  # ck = gk/2\n",
        "  # dk = (gk - gk-1) / 6*hk\n",
        "\n",
        "  # Para achar os gk\n",
        "  # hk*gk-1 + 2(hk-hk+1)gk + hk+1*gk+1 = 6((f(xk+1) - f(xk) / hk+1) - (f(xk) - f(xk-1)) / hk)\n",
        "  \n",
        "  # Onde\n",
        "  # hk = xk - xk-1\n",
        "  # g0 = gn-1 = 0\n",
        "  # ======================================================\n",
        "\n",
        "  if len(x) != len(y):\n",
        "    raise ValueError(\"X and Y should be of same size\")\n",
        "\n",
        "  h = [None] * (len(x) - 1)\n",
        "  g = []\n",
        "  eq = [] \n",
        "\n",
        "\n",
        "  for k in range(0, len(h)):\n",
        "    h[k] = x[k+1] - x[k]\n",
        "\n",
        "  for k in range(0, len(x) - 2):\n",
        "\n",
        "    for kn in range(k - 1):\n",
        "      g.append(0)\n",
        "\n",
        "    g.append(h[k])\n",
        "    g.append(2 * (h[k] + h[k+1]))\n",
        "    g.append(h[k+1])\n",
        "\n",
        "    for kn in range(k + 2, (len(x) - 2), 1):\n",
        "      g.append(0)\n",
        "\n",
        "    g.append(6 * (((y[k+2] - y[k+1]) / h[k+1]) - ((y[k+1] - y[k]) / h[k])))\n",
        "\n",
        "    eq.append(g)\n",
        "    g = []\n",
        "\n",
        "  \n",
        "  eq[0].pop(0)\n",
        "  eq[-1].pop(-2)\n",
        "\n",
        "  matriz = np.array(eq)\n",
        "  matriz, g = gauss_elimination(matriz, len(x) - 2, \"parcial\")\n",
        "  \n",
        "  g = np.insert(g, [0, len(g)], 0)\n",
        "\n",
        "  w = symbols('x')\n",
        "  s = []\n",
        "\n",
        "  for i in range(len(x) - 1):\n",
        "    ai = y[i+1]\n",
        "    bi = ((y[i+1] - y[i]) / h[i] + (2*h[i]*g[i+1] + g[i]*h[i]) / 6) * (w - x[i+1])\n",
        "    ci = (g[i+1]/2) * ((w - x[i+1])**2)\n",
        "    di = ((g[i+1] - g[i]) / (6 * h[i])) * ((w - x[i+1])**3)\n",
        "    # print('ai: ', ai)\n",
        "    # print('bi: ', bi)\n",
        "    # print('ci: ', ci)\n",
        "    # print('di: ', di)\n",
        "    s.append(ai + bi + ci + di)\n",
        "\n",
        "  # print(eq)\n",
        "  return s"
      ],
      "execution_count": null,
      "outputs": []
    },
    {
      "cell_type": "code",
      "metadata": {
        "colab": {
          "base_uri": "https://localhost:8080/"
        },
        "id": "MnOPrMO2knhQ",
        "outputId": "7959b7af-395e-4846-dbbf-6b750e856fe1"
      },
      "source": [
        "# Teste Spline Cubica\n",
        "natural_cubic_spline([3.0, 4.5, 7.0, 9.0],[2.5, 1.0, 2.5, 0.5])"
      ],
      "execution_count": null,
      "outputs": [
        {
          "output_type": "execute_result",
          "data": {
            "text/plain": [
              "[-0.160456273764258*x + 17.0007604562738*(0.222222222222222*x - 1)**3 + 17.0007604562738*(0.222222222222222*x - 1)**2 + 1.72205323193916,\n",
              " 0.0220532319391633*x - 73.4515589353612*(0.142857142857143*x - 1)**3 - 37.5604562737643*(0.142857142857143*x - 1)**2 + 2.34562737642586,\n",
              " -1.51102661596958*x + 93.1346007604563*(0.111111111111111*x - 1)**3 + 14.0992395437262]"
            ]
          },
          "metadata": {},
          "execution_count": 274
        }
      ]
    },
    {
      "cell_type": "code",
      "metadata": {
        "colab": {
          "base_uri": "https://localhost:8080/"
        },
        "id": "7qT-kJoJ_W49",
        "outputId": "d3ab39bc-3fb1-48b1-fa2b-30bc7ba9e181"
      },
      "source": [
        "x = [1.0, 1.1, 1.2, 1.3, 1.4, 1.5, 1.6, 1.7]\n",
        "y = [0.841471,\t0.891207,\t0.932039,\t0.963558,\t0.985450,\t0.997495,\t0.999574,\t0.991665]\n",
        "\n",
        "s = natural_cubic_spline(x, y)\n",
        "eq1 = lambdify(symbols('x'), s[0], 'math')\n",
        "eq2 = lambdify(symbols('x'), s[1], 'math')\n",
        "eq3 = lambdify(symbols('x'), s[2], 'math')\n",
        "\n",
        "print(eq1(1))\n",
        "print(eq2(1.12))\n",
        "print(eq2(1.2))\n",
        "print(eq3(1.35))"
      ],
      "execution_count": null,
      "outputs": [
        {
          "output_type": "stream",
          "name": "stdout",
          "text": [
            "0.8414709999999996\n",
            "0.9001892568079699\n",
            "0.9320390000000003\n",
            "0.9757235823170741\n"
          ]
        }
      ]
    },
    {
      "cell_type": "markdown",
      "metadata": {
        "id": "MO9UL_h8eILk"
      },
      "source": [
        "## *Método dos mínimos quadrados*"
      ]
    },
    {
      "cell_type": "code",
      "metadata": {
        "id": "p-YkDHxZRXV5"
      },
      "source": [
        "def erro_quadratico(x, y, f):\n",
        "  r = [f(z) for z in x]\n",
        "\n",
        "  dif = [(a-b)**2 for a, b in zip(y, r)]\n",
        "\n",
        "  dif_sum = sum(dif)\n",
        "\n",
        "  dif_sum = sqrt(dif_sum)\n",
        "\n",
        "  return dif_sum"
      ],
      "execution_count": null,
      "outputs": []
    },
    {
      "cell_type": "code",
      "metadata": {
        "id": "ZJ0b2FwseVLx"
      },
      "source": [
        "def squared_min(x, y, a_type='linear'):\n",
        "\n",
        "  # Linear = ax + b\n",
        "  # Quad = ax^2 + bx + c\n",
        "  n = len(x)\n",
        "\n",
        "  z = symbols('x')\n",
        "\n",
        "  if a_type == 'exp':\n",
        "    y = [math.log(a) for a in y]\n",
        "\n",
        "  xy = [(a * b) for a, b in zip(x, y)]\n",
        "  x2 = [(a**2) for a, in zip(x)]\n",
        "\n",
        "  if a_type == 'quad':\n",
        "    yx2 = [(a * b) for a, b in zip(x2, y)]\n",
        "    x3 = [(a**3) for a, in zip(x)]\n",
        "    x4 = [(a**4) for a, in zip(x)]\n",
        "\n",
        "    r1 = [n, sum(x), sum(x2), sum(y)]\n",
        "    r2 = [sum(x), sum(x2), sum(x3), sum(xy)]\n",
        "    r3 = [sum(x2), sum(x3), sum(x4), sum(yx2)]\n",
        "\n",
        "    m = np.array([r1, r2, r3])\n",
        "\n",
        "    m, r = gauss_elimination(m, 3)\n",
        "    c, b, a = r\n",
        "    g = a*(z**2) + b*z + c\n",
        "\n",
        "    return g\n",
        "\n",
        "  for i in range(len(x)):\n",
        "    a = (n * sum(xy) - sum(x) * sum(y)) / ( n * sum(x2) - (sum(x)**2) )\n",
        "    b = ( ( sum(x) * sum(xy) - sum(y) * sum(x2) ) / ( (sum(x)**2) - n * sum(x2) ) )\n",
        "\n",
        "  if a_type == 'linear':\n",
        "    g = a*z + b\n",
        "  \n",
        "  elif a_type == 'exp':\n",
        "    b = exp(b)\n",
        "    g = b * exp(a*z)\n",
        "\n",
        "  return g"
      ],
      "execution_count": null,
      "outputs": []
    },
    {
      "cell_type": "code",
      "metadata": {
        "colab": {
          "base_uri": "https://localhost:8080/",
          "height": 39
        },
        "id": "lrtZIvcvoqxz",
        "outputId": "618b12a1-afaf-40e1-9712-fbe46263f201"
      },
      "source": [
        "# Teste squared_min\n",
        "x = [1, 2, 3, 4]\n",
        "y = [3, 5, 6, 8]\n",
        "squared_min(x, y, 'linear')"
      ],
      "execution_count": null,
      "outputs": [
        {
          "output_type": "execute_result",
          "data": {
            "text/latex": "$\\displaystyle 1.6 x + 1.5$",
            "text/plain": [
              "1.6*x + 1.5"
            ]
          },
          "metadata": {},
          "execution_count": 278
        }
      ]
    },
    {
      "cell_type": "code",
      "metadata": {
        "colab": {
          "base_uri": "https://localhost:8080/",
          "height": 39
        },
        "id": "QFqjPX-AsQfC",
        "outputId": "370ce15f-7256-4d3c-8a62-39fe6762ca9d"
      },
      "source": [
        "squared_min(x, y, 'exp')"
      ],
      "execution_count": null,
      "outputs": [
        {
          "output_type": "execute_result",
          "data": {
            "text/latex": "$\\displaystyle 2.37170824512629 e^{0.312480931582913 x}$",
            "text/plain": [
              "2.37170824512629*exp(0.312480931582913*x)"
            ]
          },
          "metadata": {},
          "execution_count": 279
        }
      ]
    },
    {
      "cell_type": "code",
      "metadata": {
        "colab": {
          "base_uri": "https://localhost:8080/",
          "height": 39
        },
        "id": "m_wgWgUwydTY",
        "outputId": "575c54f5-ef7b-4ca9-d28e-6cf9836617e1"
      },
      "source": [
        "x = [-1, 0, 1, 2]\n",
        "y = [1, -1, 2, 3]\n",
        "squared_min(x, y, 'quad')"
      ],
      "execution_count": null,
      "outputs": [
        {
          "output_type": "execute_result",
          "data": {
            "text/latex": "$\\displaystyle 0.75 x^{2} + 0.05 x + 0.1$",
            "text/plain": [
              "0.75*x**2 + 0.05*x + 0.1"
            ]
          },
          "metadata": {},
          "execution_count": 280
        }
      ]
    },
    {
      "cell_type": "code",
      "metadata": {
        "colab": {
          "base_uri": "https://localhost:8080/",
          "height": 39
        },
        "id": "mXiRreMmQnco",
        "outputId": "d36701ea-f8f3-412c-f439-9bd6839d3056"
      },
      "source": [
        "x = [-1, 0, 1, 2]\n",
        "y = [1, -1, 2, 3]\n",
        "squared_min(x, y, 'linear')"
      ],
      "execution_count": null,
      "outputs": [
        {
          "output_type": "execute_result",
          "data": {
            "text/latex": "$\\displaystyle 0.9 x + 0.8$",
            "text/plain": [
              "0.9*x + 0.8"
            ]
          },
          "metadata": {},
          "execution_count": 281
        }
      ]
    },
    {
      "cell_type": "code",
      "metadata": {
        "colab": {
          "base_uri": "https://localhost:8080/",
          "height": 37
        },
        "id": "-oCoCnlBR-lW",
        "outputId": "1c38421a-ab1f-4e07-c5c0-178cccc8a7f8"
      },
      "source": [
        "erro_quadratico(x, y, lambdify(symbols('x'), squared_min(x, y, 'linear'), 'math'))"
      ],
      "execution_count": null,
      "outputs": [
        {
          "output_type": "execute_result",
          "data": {
            "text/latex": "$\\displaystyle 2.16794833886788$",
            "text/plain": [
              "2.16794833886788"
            ]
          },
          "metadata": {},
          "execution_count": 282
        }
      ]
    },
    {
      "cell_type": "markdown",
      "metadata": {
        "id": "1wje0dmreLpQ"
      },
      "source": [
        "# **Relatório 3**\n"
      ]
    },
    {
      "cell_type": "markdown",
      "metadata": {
        "id": "ySK8ByuPeLAD"
      },
      "source": [
        "##Questão 1 –\n",
        "Considere os dados\n",
        "\n",
        "x    1 2 3   5  6 \n",
        "\n",
        "f(x) 7 4 5,5 40 82\n",
        "\n",
        "a) Calcule f(4) usando polinômios interpoladores de Newton de primeiro a quarto graus. Escolha seus pontos-base para obter uma boa acurácia; ou seja, os pontos devem ser centrados em torno e tão próximo quanto possível do valor desconhecido. O que seus resultados indicam em relação ao grau do polinômio usado para gerar os dados da tabela?\n",
        "\n",
        "b) Repita (a), mas utilize polinômios de Lagrange."
      ]
    },
    {
      "cell_type": "code",
      "metadata": {
        "colab": {
          "base_uri": "https://localhost:8080/",
          "height": 295
        },
        "id": "PEN32GbTtY2E",
        "outputId": "924bee20-8d8d-4e5f-ed26-0090c4c2c08e"
      },
      "source": [
        "plot_scatter_points([1, 2, 3, 5, 6], [7, 4, 5.5, 40, 82], color='r', title='Questão 1')"
      ],
      "execution_count": null,
      "outputs": [
        {
          "output_type": "display_data",
          "data": {
            "image/png": "[encoded data removed]",
            "text/plain": [
              "<Figure size 432x288 with 1 Axes>"
            ]
          },
          "metadata": {
            "needs_background": "light"
          }
        }
      ]
    },
    {
      "cell_type": "markdown",
      "metadata": {
        "id": "nZIwSsWHUPx-"
      },
      "source": [
        "### Resposta da questão 1\n",
        "\n",
        "Quanto maior o grau do polinomio interpolador mais a a curva se ajusta aos pontos, então com um polinomio de grau igual ao numero de pontos tabelados - 1 temos a maior acurácia possivel para os pontos tabelados. Mas pode acontecer de um polinômio de grau inferior já se adequar completamente ao dado conjunto de pontos"
      ]
    },
    {
      "cell_type": "markdown",
      "metadata": {
        "id": "zqUjL33zawTP"
      },
      "source": [
        "### **a)**"
      ]
    },
    {
      "cell_type": "code",
      "metadata": {
        "id": "PnVmpjipefiX",
        "colab": {
          "base_uri": "https://localhost:8080/"
        },
        "outputId": "82ab658d-4807-4e05-9f5a-e1f9546f7c03"
      },
      "source": [
        "for i in range(4):\n",
        "  expr = lambdify(symbols('z'), newton_interpolation(i+1, [1, 2, 3, 5, 6], [7, 4, 5.5, 40, 82], 4, 'function'), 'math')\n",
        "  print(expr(4))"
      ],
      "execution_count": null,
      "outputs": [
        {
          "output_type": "stream",
          "name": "stdout",
          "text": [
            "22.75\n",
            "17.5\n",
            "16.0\n",
            "16.0\n"
          ]
        }
      ]
    },
    {
      "cell_type": "code",
      "metadata": {
        "colab": {
          "base_uri": "https://localhost:8080/",
          "height": 295
        },
        "id": "h7-C6j72tBfb",
        "outputId": "4ecb5ce7-6171-436d-c27c-640b7bc278c7"
      },
      "source": [
        "plot_function_from_interpolation([1, 2, 3, 4], [1, 2, 3, 5, 6], [7, 4, 5.5, 40, 82], [4], newton_interpolation, title='Questão 1 - a)')"
      ],
      "execution_count": null,
      "outputs": [
        {
          "output_type": "display_data",
          "data": {
            "image/png": "[encoded data removed]",
            "text/plain": [
              "<Figure size 432x288 with 1 Axes>"
            ]
          },
          "metadata": {
            "needs_background": "light"
          }
        }
      ]
    },
    {
      "cell_type": "markdown",
      "metadata": {
        "id": "IJYv9F-3azDv"
      },
      "source": [
        "### **b)**"
      ]
    },
    {
      "cell_type": "code",
      "metadata": {
        "colab": {
          "base_uri": "https://localhost:8080/"
        },
        "id": "yZOCRtfia05w",
        "outputId": "e0d5b0ec-31d5-4bcf-b852-a5dcf85af7fd"
      },
      "source": [
        "for i in range(4):\n",
        "  expr = lambdify(symbols('z'), lagrange_interpolation(i+1, [1, 2, 3, 5, 6], [7, 4, 5.5, 40, 82], 4, 'function'), 'math')\n",
        "  print(expr(4))"
      ],
      "execution_count": null,
      "outputs": [
        {
          "output_type": "stream",
          "name": "stdout",
          "text": [
            "22.75\n",
            "17.5\n",
            "16.0\n",
            "15.999999999999996\n"
          ]
        }
      ]
    },
    {
      "cell_type": "code",
      "metadata": {
        "colab": {
          "base_uri": "https://localhost:8080/",
          "height": 295
        },
        "id": "sgol_GDUtyMk",
        "outputId": "8f33f5bd-5a57-4b2e-b9f7-1f7374463bc0"
      },
      "source": [
        "plot_function_from_interpolation([1, 2, 3, 4], [1, 2, 3, 5, 6], [7, 4, 5.5, 40, 82], [4], lagrange_interpolation, n_ptos=100, title='Questão 1 - b)')"
      ],
      "execution_count": null,
      "outputs": [
        {
          "output_type": "display_data",
          "data": {
            "image/png": "[encoded data removed]",
            "text/plain": [
              "<Figure size 432x288 with 1 Axes>"
            ]
          },
          "metadata": {
            "needs_background": "light"
          }
        }
      ]
    },
    {
      "cell_type": "markdown",
      "metadata": {
        "id": "LFCZrxsk4lOM"
      },
      "source": [
        "##Questão 2 –\n",
        " Os dados contidos na tabela abaixo relacionam o peso (y) de embriões de frangos desidratados, em gramas, com sua idade (x) em dias.\n",
        "\n",
        " x(dias) 6 7 8 9 10 11 12 13 14 15 16\n",
        "\n",
        " y 0,029 0,052 0,079 0,125 0,181 0,261 0,425 0,738 1,130 1,882 2,812\n",
        "\n",
        "a) Trace o diagrama de dispersão do conjunto de dados.\n",
        "\n",
        "b) Efetue o ajuste polinomial para o conjunto. Para isso, encontre os ajustes até o polinômio de grau cinco. Usando Newton ou Lagrange.\n",
        "\n",
        "c) Trace o gráfico da curva que representa o melhor ajuste.\n",
        "\n",
        "d) Estime o peso de um embrião de frango no 20o dia de vida."
      ]
    },
    {
      "cell_type": "code",
      "metadata": {
        "id": "NsEQcZT-4uxp"
      },
      "source": [
        "x = [6, 7, 8, 9, 10, 11, 12, 13, 14, 15, 16]\n",
        "y = [0.029, 0.052, 0.079, 0.125, 0.181, 0.261, 0.425, 0.738, 1.130, 1.882, 2.812]"
      ],
      "execution_count": null,
      "outputs": []
    },
    {
      "cell_type": "markdown",
      "metadata": {
        "id": "sQT8pRFNgWjG"
      },
      "source": [
        "### **a)**"
      ]
    },
    {
      "cell_type": "code",
      "metadata": {
        "colab": {
          "base_uri": "https://localhost:8080/",
          "height": 295
        },
        "id": "g8OQ55ROgznC",
        "outputId": "83ca9daf-6edf-48e7-a499-0ab3f1a7d905"
      },
      "source": [
        "plot_scatter_points(x, y, 'Dias', 'Peso em g', 'r', 'Questão 2 - a)')"
      ],
      "execution_count": null,
      "outputs": [
        {
          "output_type": "display_data",
          "data": {
            "image/png": "[encoded data removed]",
            "text/plain": [
              "<Figure size 432x288 with 1 Axes>"
            ]
          },
          "metadata": {
            "needs_background": "light"
          }
        }
      ]
    },
    {
      "cell_type": "markdown",
      "metadata": {
        "id": "NxPg7shZMqBL"
      },
      "source": [
        "### **b)**"
      ]
    },
    {
      "cell_type": "markdown",
      "metadata": {
        "id": "rtaYsYrjVDOO"
      },
      "source": [
        "### Resposta da Questão 2 - b)\n",
        "\n",
        "Aqui é usado o ponto médio do conjunto a fim de ter uma representação mais justa"
      ]
    },
    {
      "cell_type": "code",
      "metadata": {
        "colab": {
          "base_uri": "https://localhost:8080/",
          "height": 295
        },
        "id": "S-YtYZ1m7Ik8",
        "outputId": "de131f9b-6c43-4066-8d41-fa99b50c28e9"
      },
      "source": [
        "plot_function_from_interpolation([1, 2, 3, 4, 5], x, y, [11], newton_interpolation, 100, 'Dias', 'Peso em g', title='Questão 2 - b)')"
      ],
      "execution_count": null,
      "outputs": [
        {
          "output_type": "display_data",
          "data": {
            "image/png": "[encoded data removed]",
            "text/plain": [
              "<Figure size 432x288 with 1 Axes>"
            ]
          },
          "metadata": {
            "needs_background": "light"
          }
        }
      ]
    },
    {
      "cell_type": "markdown",
      "metadata": {
        "id": "gd2ntpHEGizz"
      },
      "source": [
        "### **c)**"
      ]
    },
    {
      "cell_type": "markdown",
      "metadata": {
        "id": "NxTUlF5CWzzL"
      },
      "source": [
        "### Resposta da Questão 2 - c)\n",
        "\n",
        "O grau que possui a melhor aproximação centrado no ponto 11 é o polinomio de grau 5, pois possui menor erro quadratico"
      ]
    },
    {
      "cell_type": "code",
      "metadata": {
        "colab": {
          "base_uri": "https://localhost:8080/",
          "height": 37
        },
        "id": "W11RwMkcVfGw",
        "outputId": "503f20d7-8d91-469f-991d-11bb022ad70d"
      },
      "source": [
        "erro_quadratico(x, y, lambdify(symbols('z'), newton_interpolation(1, x, y, 11, 'function'), 'math'))"
      ],
      "execution_count": null,
      "outputs": [
        {
          "output_type": "execute_result",
          "data": {
            "text/latex": "$\\displaystyle 2.62051006485379$",
            "text/plain": [
              "2.62051006485379"
            ]
          },
          "metadata": {},
          "execution_count": 291
        }
      ]
    },
    {
      "cell_type": "code",
      "metadata": {
        "colab": {
          "base_uri": "https://localhost:8080/",
          "height": 37
        },
        "id": "rEEOPMemWNC9",
        "outputId": "1766c128-84a0-4450-a91b-9bdbe1f722db"
      },
      "source": [
        "erro_quadratico(x, y, lambdify(symbols('z'), newton_interpolation(2, x, y, 11, 'function'), 'math'))"
      ],
      "execution_count": null,
      "outputs": [
        {
          "output_type": "execute_result",
          "data": {
            "text/latex": "$\\displaystyle 2.15376902197055$",
            "text/plain": [
              "2.15376902197055"
            ]
          },
          "metadata": {},
          "execution_count": 292
        }
      ]
    },
    {
      "cell_type": "code",
      "metadata": {
        "colab": {
          "base_uri": "https://localhost:8080/",
          "height": 37
        },
        "id": "j9C8Oe1WWOmm",
        "outputId": "5e11deef-9a6c-4621-8011-5f7d32a51b67"
      },
      "source": [
        "erro_quadratico(x, y, lambdify(symbols('z'), newton_interpolation(3, x, y, 11, 'function'), 'math'))"
      ],
      "execution_count": null,
      "outputs": [
        {
          "output_type": "execute_result",
          "data": {
            "text/latex": "$\\displaystyle 0.672161438941567$",
            "text/plain": [
              "0.672161438941567"
            ]
          },
          "metadata": {},
          "execution_count": 293
        }
      ]
    },
    {
      "cell_type": "code",
      "metadata": {
        "colab": {
          "base_uri": "https://localhost:8080/",
          "height": 37
        },
        "id": "ptCdj0FwWPFM",
        "outputId": "3761c8b3-7e74-455b-b4eb-702e24739d1e"
      },
      "source": [
        "erro_quadratico(x, y, lambdify(symbols('z'), newton_interpolation(4, x, y, 11, 'function'), 'math'))"
      ],
      "execution_count": null,
      "outputs": [
        {
          "output_type": "execute_result",
          "data": {
            "text/latex": "$\\displaystyle 2.12538961134187$",
            "text/plain": [
              "2.12538961134187"
            ]
          },
          "metadata": {},
          "execution_count": 294
        }
      ]
    },
    {
      "cell_type": "code",
      "metadata": {
        "colab": {
          "base_uri": "https://localhost:8080/",
          "height": 37
        },
        "id": "wsYtBqrkWPVo",
        "outputId": "89c23d8b-2cae-48c5-df4a-e68ef3f1c670"
      },
      "source": [
        "erro_quadratico(x, y, lambdify(symbols('z'), newton_interpolation(5, x, y, 11, 'function'), 'math'))"
      ],
      "execution_count": null,
      "outputs": [
        {
          "output_type": "execute_result",
          "data": {
            "text/latex": "$\\displaystyle 0.568782911135695$",
            "text/plain": [
              "0.568782911135695"
            ]
          },
          "metadata": {},
          "execution_count": 295
        }
      ]
    },
    {
      "cell_type": "code",
      "metadata": {
        "colab": {
          "base_uri": "https://localhost:8080/",
          "height": 295
        },
        "id": "q9R-5LLwVz2f",
        "outputId": "0473fde6-e24b-4ea8-eee4-8951e9bb4796"
      },
      "source": [
        "plot_function_from_interpolation([5], x, y, [11], newton_interpolation, 100, 'Dias', 'Peso em g', title='Questão 2 - c)')"
      ],
      "execution_count": null,
      "outputs": [
        {
          "output_type": "display_data",
          "data": {
            "image/png": "[encoded data removed]",
            "text/plain": [
              "<Figure size 432x288 with 1 Axes>"
            ]
          },
          "metadata": {
            "needs_background": "light"
          }
        }
      ]
    },
    {
      "cell_type": "markdown",
      "metadata": {
        "id": "TjnVjcH7Myqk"
      },
      "source": [
        "### **d)**"
      ]
    },
    {
      "cell_type": "code",
      "metadata": {
        "colab": {
          "base_uri": "https://localhost:8080/"
        },
        "id": "cyS45qjcHGX2",
        "outputId": "0556396d-d985-4b8d-acfc-f372c4126a8b"
      },
      "source": [
        "newton_interpolation(5, x, y, 20, 'value')"
      ],
      "execution_count": null,
      "outputs": [
        {
          "output_type": "execute_result",
          "data": {
            "text/plain": [
              "-11.533000000000015"
            ]
          },
          "metadata": {},
          "execution_count": 297
        }
      ]
    },
    {
      "cell_type": "code",
      "metadata": {
        "colab": {
          "base_uri": "https://localhost:8080/",
          "height": 295
        },
        "id": "UfhUa8wguvCR",
        "outputId": "862d1650-5fff-4e30-faa8-d714c1ef4dfe"
      },
      "source": [
        "plot_function_from_interpolation([1, 2, 3, 4, 5], x, y, [20], newton_interpolation, 100, title='Questão 2 - d)')"
      ],
      "execution_count": null,
      "outputs": [
        {
          "output_type": "display_data",
          "data": {
            "image/png": "[encoded data removed]",
            "text/plain": [
              "<Figure size 432x288 with 1 Axes>"
            ]
          },
          "metadata": {
            "needs_background": "light"
          }
        }
      ]
    },
    {
      "cell_type": "markdown",
      "metadata": {
        "id": "oz27YBGa40x7"
      },
      "source": [
        "## Questão 3 – \n",
        "\n",
        "Os dados a seguir definem a concentração de oxigênio dissolvido na água fresca em função da temperatura no nível do mar:\n",
        "\n",
        "T,oC 0 8 16 24 32 40\n",
        "\n",
        "o, mg/L 14,621 11,843 9,870 8,418 7,305 6,413\n",
        "\n",
        "Estime o(27) usando spline cúbica natural. Observe que o resultado exato é 7,986 mg/L.\n"
      ]
    },
    {
      "cell_type": "code",
      "metadata": {
        "id": "YTxoIvXk41RW",
        "colab": {
          "base_uri": "https://localhost:8080/"
        },
        "outputId": "1031aede-b59f-47ef-8d26-410fc91da78e"
      },
      "source": [
        "x = [0, 8, 16, 24, 32, 40]\n",
        "y = [14.621, 11.843, 9.870, 8.418, 7.305, 6.413]\n",
        "\n",
        "s = natural_cubic_spline(x, y)\n",
        "\n",
        "eq4 = lambdify(symbols('x'), s[3], 'math')\n",
        "\n",
        "eq4(27)"
      ],
      "execution_count": null,
      "outputs": [
        {
          "output_type": "execute_result",
          "data": {
            "text/plain": [
              "7.9657088722338845"
            ]
          },
          "metadata": {},
          "execution_count": 299
        }
      ]
    },
    {
      "cell_type": "code",
      "metadata": {
        "colab": {
          "base_uri": "https://localhost:8080/",
          "height": 295
        },
        "id": "KLTslRXkfX1P",
        "outputId": "273761a4-c975-4506-c110-4676c47228a6"
      },
      "source": [
        "plot_spline(x, y, natural_cubic_spline, title='Questão 3 - a)')"
      ],
      "execution_count": null,
      "outputs": [
        {
          "output_type": "display_data",
          "data": {
            "image/png": "[encoded data removed]",
            "text/plain": [
              "<Figure size 432x288 with 1 Axes>"
            ]
          },
          "metadata": {
            "needs_background": "light"
          }
        }
      ]
    },
    {
      "cell_type": "markdown",
      "metadata": {
        "id": "qCoibUqY4_Wq"
      },
      "source": [
        "##Questão 4 – \n",
        "Os dados a seguir representam o crescimento bacteriológico em uma cultura liquida durante um certo número de dias:\n",
        "\n",
        "Dia 0 4 8 12 16 20 \n",
        "\n",
        "Quantidade x 10^6 67,38 74,67 82,74 91,69 101,60 112,58 \n",
        "\n",
        "Encontre a equação do melhor ajuste para a tendência dos dados. Use a regressão por mínimos quadrados com as seguintes possibilidades – linear, quadrática e exponencial. Determine a melhor equação para prever a quantidade de bactérias após 30 dias.\n"
      ]
    },
    {
      "cell_type": "code",
      "metadata": {
        "id": "KSvKLU6c4_E1"
      },
      "source": [
        "x = [0, 4, 8, 12, 16, 20]\n",
        "y = [67.38, 74.67, 82.74, 91.69, 101.60, 112.58]"
      ],
      "execution_count": null,
      "outputs": []
    },
    {
      "cell_type": "code",
      "metadata": {
        "colab": {
          "base_uri": "https://localhost:8080/",
          "height": 37
        },
        "id": "PdgadfptSTSu",
        "outputId": "dc094921-95a5-4d32-9806-1205459b846b"
      },
      "source": [
        "erro_quadratico(x, y, lambdify(symbols('x'), squared_min(x, y, 'linear'), 'math'))"
      ],
      "execution_count": null,
      "outputs": [
        {
          "output_type": "execute_result",
          "data": {
            "text/latex": "$\\displaystyle 2.81892009042301$",
            "text/plain": [
              "2.81892009042301"
            ]
          },
          "metadata": {},
          "execution_count": 302
        }
      ]
    },
    {
      "cell_type": "code",
      "metadata": {
        "colab": {
          "base_uri": "https://localhost:8080/",
          "height": 37
        },
        "id": "N0KgTPweSilm",
        "outputId": "1644c277-969d-49e7-a97e-67998936a678"
      },
      "source": [
        "erro_quadratico(x, y, lambdify(symbols('x'), squared_min(x, y, 'quad'), 'math'))"
      ],
      "execution_count": null,
      "outputs": [
        {
          "output_type": "execute_result",
          "data": {
            "text/latex": "$\\displaystyle 0.126018706094438$",
            "text/plain": [
              "0.126018706094438"
            ]
          },
          "metadata": {},
          "execution_count": 303
        }
      ]
    },
    {
      "cell_type": "code",
      "metadata": {
        "colab": {
          "base_uri": "https://localhost:8080/",
          "height": 37
        },
        "id": "kh8wEYPnSjkN",
        "outputId": "5c746912-d38b-4389-d52e-0eb93c1f4523"
      },
      "source": [
        "erro_quadratico(x, y, lambdify(symbols('x'), squared_min(x, y, 'exp'), 'math'))"
      ],
      "execution_count": null,
      "outputs": [
        {
          "output_type": "execute_result",
          "data": {
            "text/latex": "$\\displaystyle 0.0063763827655139$",
            "text/plain": [
              "0.00637638276551390"
            ]
          },
          "metadata": {},
          "execution_count": 304
        }
      ]
    },
    {
      "cell_type": "code",
      "metadata": {
        "colab": {
          "base_uri": "https://localhost:8080/",
          "height": 295
        },
        "id": "iFcuwpdklCeq",
        "outputId": "2ae527c8-f8a4-42f4-89d5-e4eded904ed7"
      },
      "source": [
        "plot_squared_min(x, y, squared_min, ['linear', 'quad', 'exp'], title='Questão 4 - a)')"
      ],
      "execution_count": null,
      "outputs": [
        {
          "output_type": "display_data",
          "data": {
            "image/png": "[encoded data removed]",
            "text/plain": [
              "<Figure size 432x288 with 1 Axes>"
            ]
          },
          "metadata": {
            "needs_background": "light"
          }
        }
      ]
    },
    {
      "cell_type": "markdown",
      "metadata": {
        "id": "Eicm3irXSujf"
      },
      "source": [
        "### Resposta da questão 4\n",
        "A melhor equação para prever a quantidade de bacterias após 30 dias é a regressão exponencial \n",
        " - ( 67.382526651699e 0.0256656054400444x ).\n",
        " \n",
        "Pois apresenta o menor erro quadratico:"
      ]
    },
    {
      "cell_type": "code",
      "metadata": {
        "colab": {
          "base_uri": "https://localhost:8080/",
          "height": 39
        },
        "id": "fWGvSCI5S3hi",
        "outputId": "80e14a06-6981-4c69-88cf-614428a462de"
      },
      "source": [
        "squared_min(x, y, 'exp')"
      ],
      "execution_count": null,
      "outputs": [
        {
          "output_type": "execute_result",
          "data": {
            "text/latex": "$\\displaystyle 67.382526651699 e^{0.0256656054400444 x}$",
            "text/plain": [
              "67.382526651699*exp(0.0256656054400444*x)"
            ]
          },
          "metadata": {},
          "execution_count": 306
        }
      ]
    }
  ]
}