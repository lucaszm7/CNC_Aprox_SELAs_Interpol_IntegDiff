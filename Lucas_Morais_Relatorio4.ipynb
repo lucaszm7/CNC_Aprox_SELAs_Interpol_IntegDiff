{
  "nbformat": 4,
  "nbformat_minor": 0,
  "metadata": {
    "colab": {
      "name": "Lucas_Morais_Relatorio4.ipynb",
      "provenance": [],
      "collapsed_sections": [
        "9UrXwMDAeDNG"
      ],
      "toc_visible": true,
      "authorship_tag": "ABX9TyNNi9bOmTeJ75bZoAjnfvCP",
      "include_colab_link": true
    },
    "kernelspec": {
      "name": "python3",
      "display_name": "Python 3"
    },
    "language_info": {
      "name": "python"
    }
  },
  "cells": [
    {
      "cell_type": "markdown",
      "metadata": {
        "id": "view-in-github",
        "colab_type": "text"
      },
      "source": [
        "<a href=\"https://colab.research.google.com/github/lucaszm7/CNC_Aprox_SELAs_Interpol_IntegDiff/blob/main/Lucas_Morais_Relatorio4.ipynb\" target=\"_parent\"><img src=\"https://colab.research.google.com/assets/colab-badge.svg\" alt=\"Open In Colab\"/></a>"
      ]
    },
    {
      "cell_type": "markdown",
      "metadata": {
        "id": "9UrXwMDAeDNG"
      },
      "source": [
        "# **Bibliotecas**\n"
      ]
    },
    {
      "cell_type": "code",
      "metadata": {
        "id": "fi0lgc97d_eS"
      },
      "source": [
        "#Bibliotecas Aqui!\n",
        "import matplotlib.pyplot as plt\n",
        "import numpy as np\n",
        "import math\n",
        "from sympy import *"
      ],
      "execution_count": null,
      "outputs": []
    },
    {
      "cell_type": "markdown",
      "metadata": {
        "id": "gA2njU98-UKv"
      },
      "source": [
        "### Função auxiliar para o plot das funções"
      ]
    },
    {
      "cell_type": "code",
      "metadata": {
        "id": "xW9-kt7yhWJ1"
      },
      "source": [
        "def plot_value_from_interpolation(m, x, y, z, interpol_method, n_ptos=100, Xlabel='X', Ylabel='Y', title='Questão XXX', colors=['blue', 'green', 'brown', 'orange', 'red'], extrapol=0):\n",
        "  \n",
        "  plt.scatter(x, y, c='black')\n",
        "\n",
        "  innerpol = min(min(x), min(z))\n",
        "  extrapol = max(max(x), max(z))\n",
        "\n",
        "  curva = np.linspace(x[0], extrapol, n_ptos)\n",
        "  for m_index in range(len(m)):\n",
        "    valores = [interpol_method(m[m_index], x, y, k, 'value') for k in curva]\n",
        "\n",
        "    line_label = str(m[m_index]) + ' grau'\n",
        "    # color=colors[m_index], \n",
        "    plt.plot(curva, valores, linestyle='-', label=line_label)\n",
        "\n",
        "  plt.xlabel(Xlabel)\n",
        "  plt.ylabel(Ylabel)\n",
        "  plt.title(title)\n",
        "  plt.grid()\n",
        "\n",
        "  plt.legend()\n",
        "  plt.show()"
      ],
      "execution_count": null,
      "outputs": []
    },
    {
      "cell_type": "code",
      "metadata": {
        "id": "WgGzxReTma7t"
      },
      "source": [
        "def plot_function_from_interpolation(m, x, y, z, interpol_method, n_ptos=100, Xlabel='X', Ylabel='Y', title='Questão XXX', colors=['blue', 'green', 'brown', 'orange', 'red']):\n",
        "  plt.scatter(x, y, c='black')\n",
        "\n",
        "  innerpol = min(min(x), min(z))\n",
        "  extrapol = max(max(x), max(z))\n",
        "\n",
        "  curva = np.linspace(innerpol, extrapol, n_ptos)\n",
        "\n",
        "  for m_index in range(len(m)):\n",
        "\n",
        "    expr = lambdify(symbols('z'), interpol_method(m[m_index], x, y, z[-1], 'function'), 'math')\n",
        "    valores = [expr(k) for k in curva]\n",
        "    line_label = (str(m[m_index]) + ' grau - para ' + str(z[-1]))\n",
        "    plt.plot(curva, valores, linestyle='-', label=line_label)\n",
        "\n",
        "  plt.xlabel(Xlabel)\n",
        "  plt.ylabel(Ylabel)\n",
        "  plt.title(title)\n",
        "  plt.grid()\n",
        "\n",
        "  plt.legend()\n",
        "  plt.show()"
      ],
      "execution_count": null,
      "outputs": []
    },
    {
      "cell_type": "code",
      "metadata": {
        "id": "DBQf5P9dflM5"
      },
      "source": [
        "def plot_spline(x, y, interpol_method, n_ptos=100, Xlabel='X', Ylabel='Y', title='Questão XXX'):\n",
        "  \n",
        "  plt.scatter(x, y, c='red')\n",
        "\n",
        "  curva = np.linspace(min(x), max(x), n_ptos)\n",
        "\n",
        "  for i in range(len(x) - 1):\n",
        "    expr = lambdify(symbols('x'), interpol_method(x, y)[i], 'math')\n",
        "    valores = [expr(k) for k in curva]\n",
        "    line_label = (str(i+1) + ' interval')\n",
        "    plt.plot(curva, valores, linestyle='-', label=line_label)\n",
        "\n",
        "  plt.xlabel(Xlabel)\n",
        "  plt.ylabel(Ylabel)\n",
        "  plt.title(title)\n",
        "  plt.grid()\n",
        "\n",
        "  plt.legend()\n",
        "  plt.show()"
      ],
      "execution_count": null,
      "outputs": []
    },
    {
      "cell_type": "code",
      "metadata": {
        "id": "h_j_camMZKrO"
      },
      "source": [
        "def plot_scatter_points(x, y, Xlabel='X', Ylabel='Y', color='cyan', title='Questão XXX'):\n",
        "\n",
        "  plt.scatter(x, y, c=color)\n",
        "\n",
        "  plt.xlabel('x')\n",
        "  plt.ylabel('y')\n",
        "  plt.title(title)\n",
        "  plt.grid()\n",
        "\n",
        "  plt.show()"
      ],
      "execution_count": null,
      "outputs": []
    },
    {
      "cell_type": "code",
      "metadata": {
        "id": "dwnk0h9ORCmM"
      },
      "source": [
        "def plot_squared_min(x, y, interpol_method, a_type, n_ptos=100, Xlabel='X', Ylabel='Y', title='Questão XXX'):\n",
        "  \n",
        "  plt.scatter(x, y, c='red')\n",
        "\n",
        "  curva = np.linspace(min(x), max(x), n_ptos)\n",
        "\n",
        "  for b_type in a_type:\n",
        "    expr = lambdify(symbols('x'), interpol_method(x, y, b_type), 'math')\n",
        "    valores = [expr(k) for k in curva]\n",
        "    line_label = (b_type)\n",
        "    plt.plot(curva, valores, linestyle='-', label=line_label)\n",
        "\n",
        "  plt.xlabel(Xlabel)\n",
        "  plt.ylabel(Ylabel)\n",
        "  plt.title(title)\n",
        "  plt.grid()\n",
        "\n",
        "  plt.legend()\n",
        "  plt.show()"
      ],
      "execution_count": null,
      "outputs": []
    },
    {
      "cell_type": "markdown",
      "metadata": {
        "id": "ISsmsjguUY3C"
      },
      "source": [
        "### Funções auxiliares para truncar ou arredondar floats a uma certa precisão"
      ]
    },
    {
      "cell_type": "code",
      "metadata": {
        "id": "q-4V6X8oUf7X"
      },
      "source": [
        "def truncate(number, decimals):\n",
        "  factor = int(1 / decimals)\n",
        "  trunc = math.trunc(number * factor)\n",
        "  return (trunc / factor)"
      ],
      "execution_count": null,
      "outputs": []
    },
    {
      "cell_type": "code",
      "metadata": {
        "id": "Tmn1RxJlag5g"
      },
      "source": [
        "def round_epsilon(number, precision):\n",
        "  n_digits = int(1/precision)\n",
        "  epsilon = math.log(n_digits, 10)\n",
        "  return round(number, int(epsilon))"
      ],
      "execution_count": null,
      "outputs": []
    },
    {
      "cell_type": "code",
      "metadata": {
        "id": "5PqGWHF5j-iE"
      },
      "source": [
        "def round_epsilon_array(number, precision):\n",
        "  n_digits = int(1/precision)\n",
        "  epsilon = math.log(n_digits, 10)\n",
        "  return np.round(number, int(epsilon))"
      ],
      "execution_count": null,
      "outputs": []
    },
    {
      "cell_type": "markdown",
      "metadata": {
        "id": "U0gnVsbYpB6O"
      },
      "source": [
        "### Função auxiliar para retro substituição"
      ]
    },
    {
      "cell_type": "code",
      "metadata": {
        "id": "nUDu1iJsh86R"
      },
      "source": [
        "def retro_substituicao(matriz, b, n, triangular=\"superior\", precisao=None):\n",
        "\n",
        "  results = np.array([1] * n, dtype=np.float64)\n",
        "\n",
        "  if triangular == \"superior\":\n",
        "    if precisao is not None:\n",
        "      for i in range( n-1, -1, -1 ):\n",
        "        sum_of_line = round_epsilon(np.sum(matriz[i][i+1:n] * results[i+1:n], dtype=np.float64), precisao)\n",
        "        results[i] = round_epsilon((b[i] - sum_of_line) / matriz[i][i], precisao)\n",
        "      return results\n",
        "    else:\n",
        "      for i in range( n-1, -1, -1 ):\n",
        "        sum_of_line = np.sum(matriz[i][i+1:n] * results[i+1:n], dtype=np.float64)\n",
        "        results[i] = (b[i] - sum_of_line) / matriz[i][i]\n",
        "      return results\n",
        "\n",
        "  else: # inferior\n",
        "    if precisao is not None:\n",
        "      for i in range( 0, n, 1 ):\n",
        "        sum_of_line = round_epsilon(np.sum(matriz[i][0:i] * results[0:i], dtype=np.float64), precisao)\n",
        "        results[i] = round_epsilon((b[i] - sum_of_line) / matriz[i][i], precisao)\n",
        "      return results\n",
        "    else:\n",
        "      for i in range( 0, n, 1 ):\n",
        "        sum_of_line = np.sum(matriz[i][0:i] * results[0:i], dtype=np.float64)\n",
        "        results[i] = (b[i] - sum_of_line) / matriz[i][i]\n",
        "      return results"
      ],
      "execution_count": null,
      "outputs": []
    },
    {
      "cell_type": "markdown",
      "metadata": {
        "id": "9F7Tr1hvgeTc"
      },
      "source": [
        "### Classe auxiliar para representação de máquinas"
      ]
    },
    {
      "cell_type": "code",
      "metadata": {
        "id": "syI1nAsWgbkB"
      },
      "source": [
        "class Maquina:\n",
        "  def __init__(self, mantissa, base, menor_expoente, maior_expoente):\n",
        "    self.mantissa = mantissa\n",
        "    self.base = mantissa\n",
        "    self.menor_expoente = menor_expoente\n",
        "    self.maior_expoente = maior_expoente"
      ],
      "execution_count": null,
      "outputs": []
    },
    {
      "cell_type": "markdown",
      "metadata": {
        "id": "BDZxf0dhvu13"
      },
      "source": [
        "## Função auxiliar, Eliminação de Gauss"
      ]
    },
    {
      "cell_type": "code",
      "metadata": {
        "id": "h8GdLoEawgbd"
      },
      "source": [
        "def retro_substituicao(matriz, b, n, triangular=\"superior\", precisao=None):\n",
        "\n",
        "  results = np.array([1] * n, dtype=np.float64)\n",
        "\n",
        "  if triangular == \"superior\":\n",
        "    if precisao is not None:\n",
        "      for i in range( n-1, -1, -1 ):\n",
        "        sum_of_line = round_epsilon(np.sum(matriz[i][i+1:n] * results[i+1:n], dtype=np.float64), precisao)\n",
        "        results[i] = round_epsilon((b[i] - sum_of_line) / matriz[i][i], precisao)\n",
        "      return results\n",
        "    else:\n",
        "      for i in range( n-1, -1, -1 ):\n",
        "        sum_of_line = np.sum(matriz[i][i+1:n] * results[i+1:n], dtype=np.float64)\n",
        "        results[i] = (b[i] - sum_of_line) / matriz[i][i]\n",
        "      return results\n",
        "\n",
        "  else: # inferior\n",
        "    if precisao is not None:\n",
        "      for i in range( 0, n, 1 ):\n",
        "        sum_of_line = round_epsilon(np.sum(matriz[i][0:i] * results[0:i], dtype=np.float64), precisao)\n",
        "        results[i] = round_epsilon((b[i] - sum_of_line) / matriz[i][i], precisao)\n",
        "      return results\n",
        "    else:\n",
        "      for i in range( 0, n, 1 ):\n",
        "        sum_of_line = np.sum(matriz[i][0:i] * results[0:i], dtype=np.float64)\n",
        "        results[i] = (b[i] - sum_of_line) / matriz[i][i]\n",
        "      return results"
      ],
      "execution_count": null,
      "outputs": []
    },
    {
      "cell_type": "code",
      "metadata": {
        "id": "FIOfP--jw1eW"
      },
      "source": [
        "def gauss_elimination(matriz, n, pivotamento=\"nenhum\"):\n",
        "\n",
        "# Escalonamento\n",
        "\n",
        "  # Vai em todas colunas\n",
        "  for j in range(0, n):\n",
        "\n",
        "    # ==========================================================================\n",
        "    # PIVOTAMENTO TOTAL\n",
        "    # ==========================================================================\n",
        "    if pivotamento == \"total\":\n",
        "      # Seleciona como pivo o maior elementro da matriz\n",
        "      maior_elemento = matriz[j][j]\n",
        "      i_maior_elemento, j_maior_elemento = j, j\n",
        "\n",
        "      # Vai procurar em toda matriz para encontrar o amior elemento\n",
        "      for i in range(j, n, 1):\n",
        "        for j_index in range(j, n, 1):\n",
        "          if math.fabs(matriz[i][j_index]) > math.fabs(maior_elemento):\n",
        "            i_maior_elemento, j_maior_elemento = i, j_index\n",
        "            maior_elemento = matriz[i][j_index]\n",
        "\n",
        "      # Swap rows\n",
        "      matriz[[j, i_maior_elemento]] = matriz[[i_maior_elemento, j]]\n",
        "      # Swap collums\n",
        "      matriz[: , [j, j_maior_elemento]] = matriz[: , [j_maior_elemento, j]]\n",
        "\n",
        "      pivo = matriz[j][j]\n",
        "      if pivo == 0:\n",
        "        print(\"Invalid matriz, collum j == 0...\")\n",
        "        return\n",
        "\n",
        "    # ==========================================================================\n",
        "    # PIVOTAMENTO PARCIAL\n",
        "    # ==========================================================================\n",
        "    elif pivotamento == \"parcial\":\n",
        "      # Seleciona como pivo o maior elementro da coluna j\n",
        "      # print(\"Matriz: \\n\", matriz)\n",
        "      maior_elemento = matriz[j][j]\n",
        "      for i in range(j+1, n, 1):\n",
        "        # print(\"Maior elemento: \", maior_elemento)\n",
        "        # print(\"Matriz[i][j]: \", matriz[i][j])\n",
        "        if  math.fabs(matriz[i][j]) > math.fabs(maior_elemento):\n",
        "          # Swap linha com maior elemento\n",
        "          matriz[[i, j]] = matriz[[j, i]]\n",
        "          # print(\"Matriz swapped: \\n\", matriz)\n",
        "          maior_elemento = matriz[j][j]\n",
        "    \n",
        "      pivo = matriz[j][j]\n",
        "      # print(\"Pivo: \", pivo)\n",
        "      if pivo == 0:\n",
        "        print(\"Invalid matriz, collum j == 0...\")\n",
        "        return\n",
        "\n",
        "    # ==========================================================================\n",
        "    # SEM PIVOTAMENTO\n",
        "    # ==========================================================================\n",
        "    elif pivotamento == \"nenhum\":\n",
        "      # Seleciona pivo\n",
        "      pivo = matriz[j][j]\n",
        "      # print(\"pivo == \", pivo)\n",
        "      # Swap com a próxima linha até pivo != 0\n",
        "      index_pivo = j + 1\n",
        "      while pivo == 0:\n",
        "        # print(\"pivo == 0, swapping rows\")\n",
        "        matriz[[j, index_pivo]] = matriz[[index_pivo, j]]\n",
        "        # print(\"Matrix swapped\\n\", matriz)\n",
        "        pivo = matriz[j][j]\n",
        "        # print(\"new pivo = \", pivo)\n",
        "        index_pivo += 1\n",
        "        if index_pivo > n:\n",
        "          print(\"Invalid matriz...\")\n",
        "          return\n",
        "\n",
        "    # pivotamento errado\n",
        "    else:\n",
        "      print(\"invalid pivotamento...\")\n",
        "      return\n",
        "\n",
        "    # ==========================================================================\n",
        "    # Constroi linha L'\n",
        "    # Vai da linha j até a ultima\n",
        "    for i in range(j+1, n):\n",
        "      # Multiplicador da linha i\n",
        "      m = matriz[i][j] / pivo\n",
        "      # Linha L'i\n",
        "      matriz[i] = matriz[i] - m * matriz[j]\n",
        "\n",
        "\n",
        "# Retro Substituição\n",
        "\n",
        "  # Pega b (os resultados)\n",
        "  # fazendo a transposta da matriz\n",
        "  b = matriz.T[n]\n",
        "\n",
        "  # Retira a ultima coluna dos resultados\n",
        "  matriz = matriz[0:n+1][0:n]\n",
        "\n",
        "  # Cria o array (de tamanho n) que sera armazenado os resultados\n",
        "  results = np.array([1] * n, dtype=np.float64)\n",
        "\n",
        "  # Vai da ultima inha até a primeira\n",
        "  for i in range( n-1, -1, -1 ):\n",
        "      sum_of_line = np.sum(matriz[i][i+1:n] * results[i+1:n], dtype=np.float64)\n",
        "      results[i] = (b[i] - sum_of_line) / matriz[i][i]\n",
        "\n",
        "  return (matriz, results)"
      ],
      "execution_count": null,
      "outputs": []
    },
    {
      "cell_type": "markdown",
      "metadata": {
        "id": "CS1Xl-v1lAVJ"
      },
      "source": [
        "### Erro absoluto"
      ]
    },
    {
      "cell_type": "code",
      "metadata": {
        "id": "eatjjlxSk_l_"
      },
      "source": [
        "def erro_abs_porcen(r_analitica, r_aprox):\n",
        "  erro_abs = r_analitica - r_aprox\n",
        "  erro_porcen = 100 * (erro_abs / r_analitica)\n",
        "  return erro_porcen"
      ],
      "execution_count": null,
      "outputs": []
    },
    {
      "cell_type": "markdown",
      "metadata": {
        "id": "w_lSnGx5lOq_"
      },
      "source": [
        "# **Métodos**"
      ]
    },
    {
      "cell_type": "markdown",
      "metadata": {
        "id": "GWT0vg0X2xll"
      },
      "source": [
        "## Regra do Trapézio"
      ]
    },
    {
      "cell_type": "code",
      "metadata": {
        "id": "NHkt5r_wwV9X"
      },
      "source": [
        "# Regra do trapézio\n",
        "def trapezio(f, a, b):\n",
        "  return  ((b - a)/2) * (f(b) + f(a))"
      ],
      "execution_count": null,
      "outputs": []
    },
    {
      "cell_type": "code",
      "metadata": {
        "colab": {
          "base_uri": "https://localhost:8080/"
        },
        "id": "06jKVCluxsch",
        "outputId": "5580da9a-45c2-4291-e0ae-556ba3071bb7"
      },
      "source": [
        "# Teste trapézio\n",
        "f = lambda x: math.sqrt(4 - ((x - 3)**2))\n",
        "trapezio(f, 1, 3)"
      ],
      "execution_count": null,
      "outputs": [
        {
          "output_type": "execute_result",
          "data": {
            "text/plain": [
              "2.0"
            ]
          },
          "metadata": {},
          "execution_count": 16
        }
      ]
    },
    {
      "cell_type": "code",
      "metadata": {
        "id": "irzyJsmWlaW4"
      },
      "source": [
        "# Regra do trapézio repetido\n",
        "def trapezio_repetido(f, a, b, m):\n",
        "\n",
        "  h = (b - a)/m\n",
        "  sum = 0\n",
        "  integration = 0\n",
        "\n",
        "  for i in range(0, m):\n",
        "    integration += trapezio(f, a + (i*h), a + ((i*h)+h))\n",
        "\n",
        "  error = -m * (h**3)/12 * f(b)\n",
        "  return integration\n"
      ],
      "execution_count": null,
      "outputs": []
    },
    {
      "cell_type": "code",
      "metadata": {
        "colab": {
          "base_uri": "https://localhost:8080/"
        },
        "id": "Tv_p-2BzsBXS",
        "outputId": "1bfc4020-6e67-4be4-be6e-b0131a03c963"
      },
      "source": [
        "# Teste trapézio repetido\n",
        "f = lambda x: math.sqrt(4 - ((x - 3)**2))\n",
        "trapezio_repetido(f, 1, 3, 8)"
      ],
      "execution_count": null,
      "outputs": [
        {
          "output_type": "execute_result",
          "data": {
            "text/plain": [
              "3.0898191443571736"
            ]
          },
          "metadata": {},
          "execution_count": 18
        }
      ]
    },
    {
      "cell_type": "markdown",
      "metadata": {
        "id": "jhKvjgqc22qZ"
      },
      "source": [
        "## Regra de 1/3 de Simpson"
      ]
    },
    {
      "cell_type": "code",
      "metadata": {
        "id": "cSwD-oFU246D"
      },
      "source": [
        "# Regra de 1/3 de simpson\n",
        "def simpson_1_3(f, a, b):\n",
        "  h = (b - a)/2\n",
        "  return  (h/3) * (f(a) + 4*f(a+h) + f(b))"
      ],
      "execution_count": null,
      "outputs": []
    },
    {
      "cell_type": "code",
      "metadata": {
        "colab": {
          "base_uri": "https://localhost:8080/"
        },
        "id": "BQE6ljly6ncD",
        "outputId": "c91f5f3a-4823-46b3-c226-4993c1d3e07e"
      },
      "source": [
        "# Teste simpson\n",
        "f = lambda x: x**4\n",
        "simpson_1_3(f, 1, 5)"
      ],
      "execution_count": null,
      "outputs": [
        {
          "output_type": "execute_result",
          "data": {
            "text/plain": [
              "633.3333333333333"
            ]
          },
          "metadata": {},
          "execution_count": 20
        }
      ]
    },
    {
      "cell_type": "code",
      "metadata": {
        "id": "BGuHVk-V5TIu"
      },
      "source": [
        "# Regra de 1/3 de simpson repetido\n",
        "# Funcao F(x), de a, até b, com m intervalos\n",
        "def simpson_1_3_repetido(f, a, b, m):\n",
        "  h = (b - a)/m\n",
        "  sum = 0\n",
        "  integration = 0\n",
        "\n",
        "  for i in range(0, m):\n",
        "    integration += simpson_1_3(f, a + (i*h), a + ((i*h)+h))\n",
        "\n",
        "  error = -(m/2) * (h**5)/90 * f(b)\n",
        "  return integration"
      ],
      "execution_count": null,
      "outputs": []
    },
    {
      "cell_type": "code",
      "metadata": {
        "colab": {
          "base_uri": "https://localhost:8080/"
        },
        "id": "ELkR3VJ_8EyC",
        "outputId": "3178db9c-def0-47af-eba1-8d1c93b07dfe"
      },
      "source": [
        "# Teste simpson repetido\n",
        "f = lambda x: x**4\n",
        "simpson_1_3_repetido(f, 1, 5, 2)"
      ],
      "execution_count": null,
      "outputs": [
        {
          "output_type": "execute_result",
          "data": {
            "text/plain": [
              "625.3333333333333"
            ]
          },
          "metadata": {},
          "execution_count": 22
        }
      ]
    },
    {
      "cell_type": "markdown",
      "metadata": {
        "id": "4i0HP1QT9nyA"
      },
      "source": [
        "## Regra de 3/8 de Simpson"
      ]
    },
    {
      "cell_type": "code",
      "metadata": {
        "id": "bhCH7fNa9qfj"
      },
      "source": [
        "# Regra de 3/8 de simpson\n",
        "def simpson_3_8(f, a, b):\n",
        "  h = (b - a)/3\n",
        "  return  (h*3/8) * (f(a) + 3*f(a+h) + 3*f(a+(2*h)) + f(b))"
      ],
      "execution_count": null,
      "outputs": []
    },
    {
      "cell_type": "code",
      "metadata": {
        "colab": {
          "base_uri": "https://localhost:8080/"
        },
        "id": "QZ_a0_REAuF6",
        "outputId": "624f8945-49be-4759-f6bd-9a5a6264efe8"
      },
      "source": [
        "# Teste 3/8 de simpson\n",
        "f = lambda x: 1/x\n",
        "simpson_3_8(f, 1, 3)"
      ],
      "execution_count": null,
      "outputs": [
        {
          "output_type": "execute_result",
          "data": {
            "text/plain": [
              "1.1047619047619048"
            ]
          },
          "metadata": {},
          "execution_count": 24
        }
      ]
    },
    {
      "cell_type": "code",
      "metadata": {
        "id": "zeb8LlKv-X7n"
      },
      "source": [
        "# Regra de 3/8 de simpson repetido\n",
        "# Funcao F(x), de a, até b, com m intervalos\n",
        "def simpson_3_8_repetido(f, a, b, m):\n",
        "  h = (b - a)/m\n",
        "  sum = 0\n",
        "  integration = 0\n",
        "\n",
        "  for i in range(0, m):\n",
        "    integration += simpson_3_8(f, a + (i*h), a + ((i*h)+h))\n",
        "\n",
        "  error = -(m/3) * (h**5) * (3/80) * f(b)\n",
        "  return integration"
      ],
      "execution_count": null,
      "outputs": []
    },
    {
      "cell_type": "code",
      "metadata": {
        "colab": {
          "base_uri": "https://localhost:8080/"
        },
        "id": "96t3Wmio-3hI",
        "outputId": "656cc71c-1a40-4ad5-b296-8c1dac9c5682"
      },
      "source": [
        "# Teste 3/8 de simpson repetido\n",
        "f = lambda x: 2.71828**x\n",
        "simpson_3_8_repetido(f, 0, 1, 1)"
      ],
      "execution_count": null,
      "outputs": [
        {
          "output_type": "execute_result",
          "data": {
            "text/plain": [
              "1.718539479920413"
            ]
          },
          "metadata": {},
          "execution_count": 26
        }
      ]
    },
    {
      "cell_type": "markdown",
      "metadata": {
        "id": "kb8KyNX_Z13V"
      },
      "source": [
        "## Diferenças centradas"
      ]
    },
    {
      "cell_type": "code",
      "metadata": {
        "id": "yH8zNH9HZ4Mv"
      },
      "source": [
        "def diff_1_centrada(f, x, h, o):\n",
        "  if o == 2:\n",
        "    return ( f(x+h) - f(x-h) ) / ( 2*h )\n",
        "  elif o == 4:\n",
        "    return ( -f(x+(2*h)) + 8*f(x+h) - 8*f(x-h) + f(x-(2*h)) ) / ( 12*h )\n",
        "  else:\n",
        "    raise ValueError('Invalid O')\n"
      ],
      "execution_count": null,
      "outputs": []
    },
    {
      "cell_type": "code",
      "metadata": {
        "colab": {
          "base_uri": "https://localhost:8080/"
        },
        "id": "h3bd1ie6eVmI",
        "outputId": "34ac717c-c58e-4336-e0f0-d2680ce3689a"
      },
      "source": [
        "# Teste 1 derivada centrada\n",
        "f = lambda x: -0.1*(x**4) -0.15*(x**3) - 0.5*(x**2) - 0.25*x + 1.2\n",
        "diff_1_centrada(f, 0.5, 0.25, 2)"
      ],
      "execution_count": null,
      "outputs": [
        {
          "output_type": "execute_result",
          "data": {
            "text/plain": [
              "-0.9343750000000002"
            ]
          },
          "metadata": {},
          "execution_count": 28
        }
      ]
    },
    {
      "cell_type": "code",
      "metadata": {
        "id": "pgYLKeghc_dt"
      },
      "source": [
        "def diff_2_centrada(f, x, h, o):\n",
        "  if o == 2:\n",
        "    return ( f(x+h) - 2*f(x) + f(x-h) ) / ( h**2 )\n",
        "  elif o == 4:\n",
        "    return ( - f(x+(2*h)) + 16*f(x+h) - 30*f(x) + 16*f(x-h) - f(x-(2*h)) ) / ( 12*(h**2) )\n",
        "  else:\n",
        "    raise ValueError('Invalid O')\n"
      ],
      "execution_count": null,
      "outputs": []
    },
    {
      "cell_type": "code",
      "metadata": {
        "colab": {
          "base_uri": "https://localhost:8080/"
        },
        "id": "_gtKFbbYhQEE",
        "outputId": "2827d389-5e80-47d8-9131-094fd416c866"
      },
      "source": [
        "# Teste 2 derivada centrada\n",
        "f = lambda x: x**2\n",
        "diff_2_centrada(f, 2, 0.1, 2)"
      ],
      "execution_count": null,
      "outputs": [
        {
          "output_type": "execute_result",
          "data": {
            "text/plain": [
              "2.0000000000000013"
            ]
          },
          "metadata": {},
          "execution_count": 30
        }
      ]
    },
    {
      "cell_type": "markdown",
      "metadata": {
        "id": "1wje0dmreLpQ"
      },
      "source": [
        "# **Relatório 4**\n"
      ]
    },
    {
      "cell_type": "markdown",
      "metadata": {
        "id": "ySK8ByuPeLAD"
      },
      "source": [
        "##Questão 1 –\n",
        "![image.png](data:image/png;base64,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)\n",
        "\n"
      ]
    },
    {
      "cell_type": "code",
      "metadata": {
        "id": "iAAhBbO1OMvk"
      },
      "source": [
        "f = lambda x: 1 - (math.e ** -x)"
      ],
      "execution_count": null,
      "outputs": []
    },
    {
      "cell_type": "markdown",
      "metadata": {
        "id": "7RLgRYozItID"
      },
      "source": [
        "#### a)"
      ]
    },
    {
      "cell_type": "markdown",
      "metadata": {
        "id": "db8RDfHmJOgH"
      },
      "source": [
        "De forma analitica temos que:\n",
        "$$ \n",
        "\\int_0^4 (1 - e^{-x})\\; dx = \\left| x + e^{-x} \\right|_0^4 ≈ 3.0183 \n",
        "$$"
      ]
    },
    {
      "cell_type": "code",
      "metadata": {
        "id": "ajMlksZ4XT5i"
      },
      "source": [
        "r_analitica = 3.0183"
      ],
      "execution_count": null,
      "outputs": []
    },
    {
      "cell_type": "markdown",
      "metadata": {
        "id": "4dWOU0fTI_4w"
      },
      "source": [
        "#### b)\n",
        "\n",
        "Com uma única aplicação da regra do trapézio, formamos um trapézio para tentar aproximar a função, e calculamos a área desse trapézio pela formula\n",
        "\n",
        "$\n",
        "\\mathrm{Area} = \\frac{h}{2}  {(f(b) + f(a))}\n",
        "$\n",
        "\n",
        "Lógicamente estamos cometendo um erro aqui, mas veremos formas melhores a seguir."
      ]
    },
    {
      "cell_type": "code",
      "metadata": {
        "colab": {
          "base_uri": "https://localhost:8080/"
        },
        "id": "TnGAFmYeN9Ib",
        "outputId": "b0c943fd-23c9-4d5c-ded3-c5a3971aa376"
      },
      "source": [
        "r_a = trapezio(f, 0, 4)\n",
        "print(r_a)"
      ],
      "execution_count": null,
      "outputs": [
        {
          "output_type": "stream",
          "name": "stdout",
          "text": [
            "1.9633687222225316\n"
          ]
        }
      ]
    },
    {
      "cell_type": "code",
      "metadata": {
        "colab": {
          "base_uri": "https://localhost:8080/"
        },
        "id": "byJD8DceXLlM",
        "outputId": "7cb692ab-8da4-4d4b-cb08-37eb88184b81"
      },
      "source": [
        "# Erro\n",
        "erro_abs = r_analitica - r_a\n",
        "erro_porcen = 100 * (erro_abs / r_analitica)\n",
        "print(erro_porcen, \"%\")"
      ],
      "execution_count": null,
      "outputs": [
        {
          "output_type": "stream",
          "name": "stdout",
          "text": [
            "34.95117376594336 %\n"
          ]
        }
      ]
    },
    {
      "cell_type": "markdown",
      "metadata": {
        "id": "9wXVQFyEJBiq"
      },
      "source": [
        "#### c)"
      ]
    },
    {
      "cell_type": "markdown",
      "metadata": {
        "id": "hqVG3al2Orl8"
      },
      "source": [
        "Para $m = 2$ e $m = 4$, no caso, subdividimos o intervalo $[0, 4]$ em ${2}$ e ${4}$ partes.\n",
        "\n",
        "$\n",
        "h = \\frac{b-a}{m}, \\\\ \\frac{4-0}{2} = 2, \\\\ \\frac{4-0}{4} = 1 \n",
        "$\n",
        "\n",
        "E calculamos individualmente a área de cada trapézio e somamos\n",
        "\n",
        "$\n",
        "\\frac{h}{2}\\sum_{i=0}^{m} {f(x_i) + f(x_{i+1})}\n",
        "$\n",
        "\n"
      ]
    },
    {
      "cell_type": "code",
      "metadata": {
        "colab": {
          "base_uri": "https://localhost:8080/"
        },
        "id": "W6dROgYgObqi",
        "outputId": "e77c00fe-a42a-4576-f08d-fea13113eda6"
      },
      "source": [
        "r_b_1 = trapezio_repetido(f, 0, 4, 2)\n",
        "print(r_b_1)"
      ],
      "execution_count": null,
      "outputs": [
        {
          "output_type": "stream",
          "name": "stdout",
          "text": [
            "2.71101379463804\n"
          ]
        }
      ]
    },
    {
      "cell_type": "code",
      "metadata": {
        "colab": {
          "base_uri": "https://localhost:8080/"
        },
        "id": "41-EGpmIYfMY",
        "outputId": "0ba19bf6-433e-4e3e-968a-0d047e2fe239"
      },
      "source": [
        "# Erro\n",
        "erro_abs = r_analitica - r_b_1\n",
        "erro_porcen = 100 * (erro_abs / r_analitica)\n",
        "print(erro_porcen, \"%\")"
      ],
      "execution_count": null,
      "outputs": [
        {
          "output_type": "stream",
          "name": "stdout",
          "text": [
            "10.180770810123574 %\n"
          ]
        }
      ]
    },
    {
      "cell_type": "code",
      "metadata": {
        "colab": {
          "base_uri": "https://localhost:8080/"
        },
        "id": "-vzL0I2yOku-",
        "outputId": "42f8a30d-9b39-41e2-b8b4-151633b468fd"
      },
      "source": [
        "r_b_2 = trapezio_repetido(f, 0, 4, 4)\n",
        "print(r_b_2)"
      ],
      "execution_count": null,
      "outputs": [
        {
          "output_type": "stream",
          "name": "stdout",
          "text": [
            "2.9378403877797137\n"
          ]
        }
      ]
    },
    {
      "cell_type": "code",
      "metadata": {
        "colab": {
          "base_uri": "https://localhost:8080/"
        },
        "id": "ff94V_0BYoTc",
        "outputId": "846f6b44-efe4-4537-eb84-02c6c47e8c83"
      },
      "source": [
        "# Erro\n",
        "erro_abs = r_analitica - r_b_2\n",
        "erro_porcen = 100 * (erro_abs / r_analitica)\n",
        "print(erro_porcen, \"%\")"
      ],
      "execution_count": null,
      "outputs": [
        {
          "output_type": "stream",
          "name": "stdout",
          "text": [
            "2.6657261445279232 %\n"
          ]
        }
      ]
    },
    {
      "cell_type": "markdown",
      "metadata": {
        "id": "m1-RAu_1JBs5"
      },
      "source": [
        "#### d)\n",
        "\n",
        "Na regra de 1/3 de Simpson, ao contrário da regra do trapézio, agora fazemos a aproximação por um polinômio de grau 2, então precisamos de 3 pontos.\n",
        "\n",
        "Isso leva a uma aproximação mais fiel e condinzente, com um erro menor que a regra do trapézio."
      ]
    },
    {
      "cell_type": "code",
      "metadata": {
        "colab": {
          "base_uri": "https://localhost:8080/"
        },
        "id": "SoQz_p2uWL86",
        "outputId": "60698129-0017-4ec8-d8d5-0d6c232a2474"
      },
      "source": [
        "r_d = simpson_1_3(f, 0, 4)\n",
        "print(r_d)"
      ],
      "execution_count": null,
      "outputs": [
        {
          "output_type": "stream",
          "name": "stdout",
          "text": [
            "2.9602288187765433\n"
          ]
        }
      ]
    },
    {
      "cell_type": "code",
      "metadata": {
        "colab": {
          "base_uri": "https://localhost:8080/"
        },
        "id": "pClx116QY47T",
        "outputId": "d4ab35aa-17d2-43fa-deef-37bef6c86ed4"
      },
      "source": [
        "# Erro\n",
        "erro_abs = r_analitica - r_d\n",
        "erro_porcen = 100 * (erro_abs / r_analitica)\n",
        "print(erro_porcen, \"%\")"
      ],
      "execution_count": null,
      "outputs": [
        {
          "output_type": "stream",
          "name": "stdout",
          "text": [
            "1.9239698248503019 %\n"
          ]
        }
      ]
    },
    {
      "cell_type": "markdown",
      "metadata": {
        "id": "6h6TqgVFJB_3"
      },
      "source": [
        "#### e)\n",
        "Quando fazemos a forma repetida, implementei da seguinte forma\n",
        "\n",
        " Ex.: $\\int_0^4 f(x)\\;dx$ para 2 intervalos, primeiro dividimos o intervalo $[0, 4]$ em 2 subintervalos igualmente espaçados, $h = 2$ - $[0,2]$ e $[2,4]$ e então calculamos cada subintervalo individualmente, logo, após dividirmos o intervalo $[0,4]$ em 2, quando calcularmos a área do subintervalo, o subdividiremos outra vez para termos os 3 pontos necessários, $[0,2] => (0, 1, 2)$. Então no final teremos 4 intervalos."
      ]
    },
    {
      "cell_type": "code",
      "metadata": {
        "colab": {
          "base_uri": "https://localhost:8080/"
        },
        "id": "cWQlEt2nWsb5",
        "outputId": "aa274bd7-e16f-4df5-8e33-d6dc3318fe69"
      },
      "source": [
        "r_e = simpson_1_3_repetido(f, 0, 4, 4)\n",
        "print(r_e)"
      ],
      "execution_count": null,
      "outputs": [
        {
          "output_type": "stream",
          "name": "stdout",
          "text": [
            "3.0179846613217176\n"
          ]
        }
      ]
    },
    {
      "cell_type": "code",
      "metadata": {
        "colab": {
          "base_uri": "https://localhost:8080/"
        },
        "id": "1Ukuz9F-Y-il",
        "outputId": "d43b914b-a7f6-4b58-ff2f-672a7ca3c209"
      },
      "source": [
        "# Erro\n",
        "erro_abs = r_analitica - r_e\n",
        "erro_porcen = 100 * (erro_abs / r_analitica)\n",
        "print(erro_porcen, \"%\")"
      ],
      "execution_count": null,
      "outputs": [
        {
          "output_type": "stream",
          "name": "stdout",
          "text": [
            "0.010447559165171556 %\n"
          ]
        }
      ]
    },
    {
      "cell_type": "markdown",
      "metadata": {
        "id": "4Is_qn3KJCMO"
      },
      "source": [
        "#### f)\n",
        "Analogamente, a forma 3/8 de simpson utiliza agora um polinômio de grau 3, logo, precisamos de 4 pontos.\n",
        "\n",
        "Levando também a uma melhor aproximação em relação ao método anterior 1/3 de simpson."
      ]
    },
    {
      "cell_type": "code",
      "metadata": {
        "colab": {
          "base_uri": "https://localhost:8080/"
        },
        "id": "KnzACpb5W5B1",
        "outputId": "79b108d8-0728-472d-8e36-7560a664c7a5"
      },
      "source": [
        "r_f = simpson_3_8(f, 0, 4)\n",
        "print(r_f)"
      ],
      "execution_count": null,
      "outputs": [
        {
          "output_type": "stream",
          "name": "stdout",
          "text": [
            "2.9912212965478404\n"
          ]
        }
      ]
    },
    {
      "cell_type": "code",
      "metadata": {
        "colab": {
          "base_uri": "https://localhost:8080/"
        },
        "id": "hSvzUr56ZEPR",
        "outputId": "0d61e733-6f64-4d0c-8a2a-a3a0eb5e9cf3"
      },
      "source": [
        "# Erro\n",
        "erro_abs = r_analitica - r_f\n",
        "erro_porcen = 100 * (erro_abs / r_analitica)\n",
        "print(erro_porcen, \"%\")"
      ],
      "execution_count": null,
      "outputs": [
        {
          "output_type": "stream",
          "name": "stdout",
          "text": [
            "0.8971508283523696 %\n"
          ]
        }
      ]
    },
    {
      "cell_type": "markdown",
      "metadata": {
        "id": "F9jGoQhPI4uG"
      },
      "source": [
        "#### g)\n",
        "\n",
        "A forma repetida de 3/8 de simpson foi implementada seguindo a mesma lógica da 1/3 de simpson, onde subdividimos primeiro o intervalo inteiro, e então subdividimos cada subintervalo para fazermos os cálculos."
      ]
    },
    {
      "cell_type": "code",
      "metadata": {
        "colab": {
          "base_uri": "https://localhost:8080/"
        },
        "id": "RiaAFvWhW9af",
        "outputId": "85b402be-169d-4017-ccf1-4e209c00b9e4"
      },
      "source": [
        "r_g = simpson_3_8_repetido(f, 0, 4, 5)\n",
        "print(r_g)"
      ],
      "execution_count": null,
      "outputs": [
        {
          "output_type": "stream",
          "name": "stdout",
          "text": [
            "3.018254620633804\n"
          ]
        }
      ]
    },
    {
      "cell_type": "code",
      "metadata": {
        "colab": {
          "base_uri": "https://localhost:8080/"
        },
        "id": "ID_LSxMoZFMy",
        "outputId": "5231467b-590a-4dbf-d3f7-8ad69e95a6c8"
      },
      "source": [
        "# Erro\n",
        "erro_abs = r_analitica - r_g\n",
        "erro_porcen = 100 * (erro_abs / r_analitica)\n",
        "print(erro_porcen, \"%\")"
      ],
      "execution_count": null,
      "outputs": [
        {
          "output_type": "stream",
          "name": "stdout",
          "text": [
            "0.0015034743463493844 %\n"
          ]
        }
      ]
    },
    {
      "cell_type": "markdown",
      "metadata": {
        "id": "LFCZrxsk4lOM"
      },
      "source": [
        "##Questão 2 –\n",
        "![image.png](data:image/png;base64,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)"
      ]
    },
    {
      "cell_type": "markdown",
      "metadata": {
        "id": "f3jva2DGjFF5"
      },
      "source": [
        "Analisando $y = e^{x}$ de forma analitica, temos:\n",
        "$\n",
        "f(x) = e^{x} \\\\\n",
        "f'(x) = e^{x} \\\\ \n",
        "f''(x) = e^{x} \\\\\n",
        "f^{n}(2) = e^{2} = 7.389056098930650\n",
        "$"
      ]
    },
    {
      "cell_type": "code",
      "metadata": {
        "id": "IqfRCHEmkORc"
      },
      "source": [
        "r_analitica = 7.389056098930650"
      ],
      "execution_count": null,
      "outputs": []
    },
    {
      "cell_type": "code",
      "metadata": {
        "id": "NsEQcZT-4uxp"
      },
      "source": [
        "f = lambda x: (math.e)**x"
      ],
      "execution_count": null,
      "outputs": []
    },
    {
      "cell_type": "code",
      "metadata": {
        "colab": {
          "base_uri": "https://localhost:8080/"
        },
        "id": "gY4elvhUiXhx",
        "outputId": "2da06484-08e7-490e-c461-cf36f588970f"
      },
      "source": [
        "r_1_2 = diff_1_centrada(f, 2, 0.1, 2)\n",
        "print(f'1 Derivada O(2) = {r_1_2}')\n",
        "print(f'Erro percentural = {abs(erro_abs_porcen(r_analitica, r_1_2))}%')"
      ],
      "execution_count": null,
      "outputs": [
        {
          "output_type": "stream",
          "name": "stdout",
          "text": [
            "1 Derivada O(2) = 7.401377351441907\n",
            "Erro percentural = 0.1667500198440707%\n"
          ]
        }
      ]
    },
    {
      "cell_type": "code",
      "metadata": {
        "colab": {
          "base_uri": "https://localhost:8080/"
        },
        "id": "o9x-KbvjibcL",
        "outputId": "75207e26-41d8-4904-cb7c-d8df80112017"
      },
      "source": [
        "r_1_4 = diff_1_centrada(f, 2, 0.1, 4)\n",
        "print(f'1 Derivada O(4) = {r_1_4}')\n",
        "print(f'Erro percentural = {abs(erro_abs_porcen(r_analitica, r_1_4))}%')"
      ],
      "execution_count": null,
      "outputs": [
        {
          "output_type": "stream",
          "name": "stdout",
          "text": [
            "1 Derivada O(4) = 7.389031439404893\n",
            "Erro percentural = 0.0003337303902853473%\n"
          ]
        }
      ]
    },
    {
      "cell_type": "code",
      "metadata": {
        "colab": {
          "base_uri": "https://localhost:8080/"
        },
        "id": "zmrbWlZwicY6",
        "outputId": "67a19ae7-4771-4482-a050-79762735fbaf"
      },
      "source": [
        "r_2_2 = diff_2_centrada(f, 2, 0.1, 2)\n",
        "print(f'2 Derivada O(2) = {r_2_2}')\n",
        "print(f'Erro percentural = {abs(erro_abs_porcen(r_analitica, r_2_2))}%')"
      ],
      "execution_count": null,
      "outputs": [
        {
          "output_type": "stream",
          "name": "stdout",
          "text": [
            "2 Derivada O(2) = 7.395215698561939\n",
            "Erro percentural = 0.08336111607246144%\n"
          ]
        }
      ]
    },
    {
      "cell_type": "code",
      "metadata": {
        "colab": {
          "base_uri": "https://localhost:8080/"
        },
        "id": "VCRkTHUeidFJ",
        "outputId": "c493fdb0-0dae-453d-9686-844d19172246"
      },
      "source": [
        "r_2_4 = diff_2_centrada(f, 2, 0.1, 4)\n",
        "print(f'2 Derivada O(4) = {r_2_4}')\n",
        "print(f'Erro percentural = {abs(erro_abs_porcen(r_analitica, r_2_4))}%')"
      ],
      "execution_count": null,
      "outputs": [
        {
          "output_type": "stream",
          "name": "stdout",
          "text": [
            "2 Derivada O(4) = 7.389047881534545\n",
            "Erro percentural = 0.00011121036294447801%\n"
          ]
        }
      ]
    },
    {
      "cell_type": "markdown",
      "metadata": {
        "id": "S4Cwlk7zK3Tk"
      },
      "source": [
        "### Resposta questão 2\n",
        "\n",
        "Os resultados foram como previstos, onde as formas com maior acurácia (O(4)) obtiveram um menor erro percentual"
      ]
    }
  ]
}