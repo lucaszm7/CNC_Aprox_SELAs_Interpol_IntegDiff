{
  "nbformat": 4,
  "nbformat_minor": 0,
  "metadata": {
    "colab": {
      "name": "Lucas_Morais_Relatorio1.ipynb",
      "provenance": [],
      "collapsed_sections": [
        "gA2njU98-UKv",
        "ISsmsjguUY3C"
      ],
      "toc_visible": true,
      "include_colab_link": true
    },
    "kernelspec": {
      "name": "python3",
      "display_name": "Python 3"
    }
  },
  "cells": [
    {
      "cell_type": "markdown",
      "metadata": {
        "id": "view-in-github",
        "colab_type": "text"
      },
      "source": [
        "<a href=\"https://colab.research.google.com/github/lucaszm7/CNC_Aprox_SELAs_Interpol_IntegDiff/blob/main/Lucas_Morais_Relatorio1.ipynb\" target=\"_parent\"><img src=\"https://colab.research.google.com/assets/colab-badge.svg\" alt=\"Open In Colab\"/></a>"
      ]
    },
    {
      "cell_type": "markdown",
      "metadata": {
        "id": "9UrXwMDAeDNG"
      },
      "source": [
        "# **Bibliotecas**\n"
      ]
    },
    {
      "cell_type": "code",
      "metadata": {
        "id": "fi0lgc97d_eS"
      },
      "source": [
        "#Bibliotecas Aqui!\n",
        "import matplotlib.pyplot as plt\n",
        "import numpy as np\n",
        "import math\n",
        "from sympy import *"
      ],
      "execution_count": null,
      "outputs": []
    },
    {
      "cell_type": "markdown",
      "metadata": {
        "id": "gA2njU98-UKv"
      },
      "source": [
        "### Função auxiliar para o plot das funções"
      ]
    },
    {
      "cell_type": "code",
      "metadata": {
        "id": "VbWk7PgJh-BN"
      },
      "source": [
        "def plota(inicio, fim, n_ptos, f, color='green',title='Questão XXX', linewidth=1):\n",
        "\n",
        "  # Retorna 'n_ptos' valores igualmente espaçados entre o 'inicio' e o 'fim'\n",
        "  # no caso serão os nossos valores de 'x'\n",
        "  curva = np.linspace(inicio, fim, n_ptos)\n",
        "\n",
        "  # Com os valores de 'x'(colocados na variavel 'curva') fazemos um for para \n",
        "  # passar todos eles na nossa função 'f(x)' e pegar os valores de 'y'(colocados\n",
        "  # na variavel 'valores')\n",
        "  valores = [f(x) for x in curva]\n",
        "\n",
        "  # Mandamos os valores de 'x' e 'y' para plotar no gráfico\n",
        "  plt.plot(curva, valores, linestyle='-', linewidth=linewidth, color=color, label='F(X)')\n",
        "  plt.plot([inicio, fim], [0, 0], color='black', linewidth=2)\n",
        "\n",
        "  # E temos varias customizações que podemos fazer\n",
        "  plt.xlabel('x')\n",
        "  plt.ylabel('f(x)')\n",
        "  plt.title(title)\n",
        "  plt.grid()\n",
        "\n",
        "  plt.show()"
      ],
      "execution_count": null,
      "outputs": []
    },
    {
      "cell_type": "markdown",
      "metadata": {
        "id": "adTnn-V-UWn5"
      },
      "source": [
        ""
      ]
    },
    {
      "cell_type": "markdown",
      "metadata": {
        "id": "ISsmsjguUY3C"
      },
      "source": [
        "### Funções auxiliares para truncar ou arredondar floats a uma certa precisão"
      ]
    },
    {
      "cell_type": "code",
      "metadata": {
        "id": "q-4V6X8oUf7X"
      },
      "source": [
        "def truncate(number, decimals):\n",
        "  factor = int(1 / decimals)\n",
        "  trunc = math.trunc(number * factor)\n",
        "  return (trunc / factor)"
      ],
      "execution_count": null,
      "outputs": []
    },
    {
      "cell_type": "code",
      "metadata": {
        "id": "Tmn1RxJlag5g"
      },
      "source": [
        "def round_epsilon(number, precision):\n",
        "  n_digits = int(1/precision)\n",
        "  epsilon = math.log(n_digits, 10)\n",
        "  return round(number, int(epsilon))"
      ],
      "execution_count": null,
      "outputs": []
    },
    {
      "cell_type": "markdown",
      "metadata": {
        "id": "Y9rV5pFKeYFc"
      },
      "source": [
        "# **Métodos**"
      ]
    },
    {
      "cell_type": "markdown",
      "metadata": {
        "id": "KPbD7qevb2Bm"
      },
      "source": [
        "## Método da Bisseção"
      ]
    },
    {
      "cell_type": "code",
      "metadata": {
        "id": "25svTHoZaqka"
      },
      "source": [
        "def bissection(f, a, b, epsilon, iterations, criterio, method_of_precision=\"truncate\"):\n",
        "  x = (a+b)/2.0\n",
        "  # Iteraterações para precisão\n",
        "  i = 0 \n",
        "  if criterio == \"precisao\":\n",
        "    while math.fabs(f(x)) >= epsilon:\n",
        "      x = (a+b)/2.0\n",
        "      i+=1\n",
        "      if f(a)*f(x) < 0.0:\n",
        "        b = x\n",
        "      else:\n",
        "        a = x\n",
        "\n",
        "      if method_of_precision==\"truncate\":\n",
        "        print('For ', i, ' iterations: x = ', truncate(x, epsilon), ' - truncated')\n",
        "      else: # round\n",
        "        print('For ', i, ' iterations: x = ', round_epsilon(x, epsilon), ' - rounded')\n",
        "\n",
        "    if method_of_precision==\"truncate\":\n",
        "      return truncate(x, epsilon)\n",
        "    else: # round\n",
        "      return round_epsilon(x, epsilon)\n",
        "\n",
        "  else: # iterations\n",
        "    # Começa em 0 até 'iterations' incrementando de 1 em 1\n",
        "    for it in range(0, iterations, 1):\n",
        "      x = (a+b)/2.0\n",
        "      if f(a)*f(x) < 0.0:\n",
        "        b = x\n",
        "      else:\n",
        "        a = x\n",
        "      print('For ', it+1, ' iterations: x = ', x)\n",
        "    return x"
      ],
      "execution_count": null,
      "outputs": []
    },
    {
      "cell_type": "markdown",
      "metadata": {
        "id": "VVxqKDGicCd_"
      },
      "source": [
        "## Método da Falsa Posição"
      ]
    },
    {
      "cell_type": "code",
      "metadata": {
        "id": "qDyC9A6zbRuX"
      },
      "source": [
        "def false_position(f, a, b, epsilon, iterations, criterio, method_of_precision=\"truncate\"):\n",
        "  x = ((a * f(b)) - (b * f(a))) / (f(b) - f(a))\n",
        "  # Iteraterações para precisão\n",
        "  i = 0 \n",
        "  if criterio == \"precisao\":\n",
        "    while math.fabs(f(x)) >= epsilon:\n",
        "      x = ((a * f(b)) - (b * f(a))) / (f(b) - f(a))\n",
        "      i+=1\n",
        "      if np.sign(a) == np.sign(x):\n",
        "        a = x\n",
        "      else:\n",
        "        b = x\n",
        "\n",
        "      if method_of_precision==\"truncate\":\n",
        "        print('For ', i, ' iterations: x = ', truncate(x, epsilon), ' - truncated')\n",
        "      else: # round\n",
        "        print('For ', i, ' iterations: x = ', round_epsilon(x, epsilon), ' - rounded')\n",
        "\n",
        "    if method_of_precision==\"truncate\":\n",
        "      return truncate(x, epsilon)\n",
        "    else: # round\n",
        "      return round_epsilon(x, epsilon)\n",
        "\n",
        "  else: # iterations\n",
        "    # Começa em 0 até 'iterations' incrementando de 1 em 1\n",
        "    for it in range(0, iterations, 1):\n",
        "      x = ((a * f(b)) - (b * f(a))) / (f(b) - f(a))\n",
        "      if np.sign(a) == np.sign(x):\n",
        "        a = x\n",
        "      else:\n",
        "        b = x\n",
        "      print('For ', it+1, ' iterations: x = ', x)\n",
        "    return x"
      ],
      "execution_count": null,
      "outputs": []
    },
    {
      "cell_type": "markdown",
      "metadata": {
        "id": "KiwuUv0JcFj1"
      },
      "source": [
        "## Método de Newton-Raphson\n"
      ]
    },
    {
      "cell_type": "code",
      "metadata": {
        "id": "nkIyC8QdbSTj"
      },
      "source": [
        "def newton_raphson(f, fprime, x, epsilon, iterations, criterio, method_of_precision=\"truncate\"):\n",
        "  x1 = x - f(x) / fprime(x)\n",
        "  if criterio == \"precisao\":\n",
        "    i = 0\n",
        "    while math.fabs(f(x1)) >= epsilon:\n",
        "      i += 1\n",
        "      x = x1\n",
        "      x1 = x - f(x) / fprime(x)\n",
        "\n",
        "      if method_of_precision==\"truncate\":\n",
        "        print('For ', i, ' iterations: x = ', truncate(x1, epsilon), ' - truncated')\n",
        "      else: # round\n",
        "        print('For ', i, ' iterations: x = ', round_epsilon(x1, epsilon), ' - rounded')\n",
        "\n",
        "    if method_of_precision==\"truncate\":\n",
        "      return truncate(x1, epsilon)\n",
        "    else: # round\n",
        "      return round_epsilon(x1, epsilon)\n",
        "\n",
        "  else: # iterations\n",
        "    for i in range(0, iterations, 1):\n",
        "      x = x1\n",
        "      x1 = x - f(x) / fprime(x)\n",
        "      print('For ', i+1, ' iterations: x = ', x1)\n",
        "    return x1"
      ],
      "execution_count": null,
      "outputs": []
    },
    {
      "cell_type": "markdown",
      "metadata": {
        "id": "ZaoI1mxpcJEl"
      },
      "source": [
        "## Método da Secante"
      ]
    },
    {
      "cell_type": "code",
      "metadata": {
        "id": "FkM0iW32bTWa"
      },
      "source": [
        "def secant(f, x0, x1, epsilon, iterations, criterio, method_of_precision='truncate'):\n",
        "  x2 = x1 - ((f(x1) * (x1 - x0)) / (f(x1) - f(x0)))\n",
        "  if criterio == \"precisao\":\n",
        "    i = 0\n",
        "    while math.fabs(f(x2)) >= epsilon and math.fabs(f(x1) - f(x0)) > 1e-12:\n",
        "      i += 1\n",
        "      x0 = x1\n",
        "      x1 = x2\n",
        "      x2 = x1 - ((f(x1) * (x1 - x0)) / (f(x1) - f(x0)))\n",
        "      if method_of_precision==\"truncate\":\n",
        "        print('For ', i, ' iterations: x = ', truncate(x2, epsilon), ' - truncated')\n",
        "      else: # round\n",
        "        print('For ', i, ' iterations: x = ', round_epsilon(x2, epsilon), ' - rounded')\n",
        "\n",
        "    if method_of_precision==\"truncate\":\n",
        "      return truncate(x2, epsilon)\n",
        "    else: # round\n",
        "      return round_epsilon(x2, epsilon)\n",
        "\n",
        "  else: # iterations\n",
        "    for i in range(0, iterations, 1):\n",
        "      x0 = x1\n",
        "      x1 = x2\n",
        "      x2 = x1 - ((f(x1) * (x1 - x0)) / (f(x1) - f(x0)))\n",
        "      print('For ', i+1, ' iterations: x = ', x2)\n",
        "    return x2"
      ],
      "execution_count": null,
      "outputs": []
    },
    {
      "cell_type": "markdown",
      "metadata": {
        "id": "1wje0dmreLpQ"
      },
      "source": [
        "# **Relatório 1**\n"
      ]
    },
    {
      "cell_type": "markdown",
      "metadata": {
        "id": "ySK8ByuPeLAD"
      },
      "source": [
        "##Questão 1 – Determine por meio do método da bissecção, corretamente, até a quarta casa decimal, a menor raiz positiva, da equação f(x) = ***2^x - 2x^2 + 1***"
      ]
    },
    {
      "cell_type": "code",
      "metadata": {
        "id": "PnVmpjipefiX",
        "colab": {
          "base_uri": "https://localhost:8080/",
          "height": 295
        },
        "outputId": "fbc58154-2840-479e-8e5b-935584c028a2"
      },
      "source": [
        "f1 = lambda x: 2.0**x - 2.0 * x**2.0 + 1.0\n",
        "plota(1, 2, 100, f1, 'red', 'Questão 1')"
      ],
      "execution_count": null,
      "outputs": [
        {
          "output_type": "display_data",
          "data": {
            "image/png": "[encoded data removed]",
            "text/plain": [
              "<Figure size 432x288 with 1 Axes>"
            ]
          },
          "metadata": {
            "needs_background": "light"
          }
        }
      ]
    },
    {
      "cell_type": "code",
      "metadata": {
        "colab": {
          "base_uri": "https://localhost:8080/"
        },
        "id": "nVM-v9JnISd1",
        "outputId": "664dbcf6-7c3a-4fad-8c02-8ca29ab052fe"
      },
      "source": [
        "# Por precisão truncado\n",
        "bissection(f1, 0.0, 2.0, 0.0001, None, 'precisao', 'truncate')"
      ],
      "execution_count": null,
      "outputs": [
        {
          "output_type": "stream",
          "text": [
            "For  1  iterations: x =  1.0  - truncated\n",
            "For  2  iterations: x =  1.5  - truncated\n",
            "For  3  iterations: x =  1.25  - truncated\n",
            "For  4  iterations: x =  1.375  - truncated\n",
            "For  5  iterations: x =  1.3125  - truncated\n",
            "For  6  iterations: x =  1.3437  - truncated\n",
            "For  7  iterations: x =  1.3281  - truncated\n",
            "For  8  iterations: x =  1.3203  - truncated\n",
            "For  9  iterations: x =  1.3242  - truncated\n",
            "For  10  iterations: x =  1.3222  - truncated\n",
            "For  11  iterations: x =  1.3232  - truncated\n",
            "For  12  iterations: x =  1.3237  - truncated\n",
            "For  13  iterations: x =  1.3234  - truncated\n",
            "For  14  iterations: x =  1.3233  - truncated\n"
          ],
          "name": "stdout"
        },
        {
          "output_type": "execute_result",
          "data": {
            "text/plain": [
              "1.3233"
            ]
          },
          "metadata": {},
          "execution_count": 41
        }
      ]
    },
    {
      "cell_type": "code",
      "metadata": {
        "colab": {
          "base_uri": "https://localhost:8080/"
        },
        "id": "Bdv59F4Kd7rp",
        "outputId": "83db3d78-79ef-4767-a063-fb50aaf75e59"
      },
      "source": [
        "# Por precisão arredondado\n",
        "bissection(f1, 0.0, 2.0, 0.0001, None, 'precisao', 'round')"
      ],
      "execution_count": null,
      "outputs": [
        {
          "output_type": "stream",
          "text": [
            "For  1  iterations: x =  1.0  - rounded\n",
            "For  2  iterations: x =  1.5  - rounded\n",
            "For  3  iterations: x =  1.25  - rounded\n",
            "For  4  iterations: x =  1.375  - rounded\n",
            "For  5  iterations: x =  1.3125  - rounded\n",
            "For  6  iterations: x =  1.3438  - rounded\n",
            "For  7  iterations: x =  1.3281  - rounded\n",
            "For  8  iterations: x =  1.3203  - rounded\n",
            "For  9  iterations: x =  1.3242  - rounded\n",
            "For  10  iterations: x =  1.3223  - rounded\n",
            "For  11  iterations: x =  1.3232  - rounded\n",
            "For  12  iterations: x =  1.3237  - rounded\n",
            "For  13  iterations: x =  1.3235  - rounded\n",
            "For  14  iterations: x =  1.3234  - rounded\n"
          ],
          "name": "stdout"
        },
        {
          "output_type": "execute_result",
          "data": {
            "text/plain": [
              "1.3234"
            ]
          },
          "metadata": {},
          "execution_count": 42
        }
      ]
    },
    {
      "cell_type": "code",
      "metadata": {
        "colab": {
          "base_uri": "https://localhost:8080/"
        },
        "id": "2F-gHHCFom7e",
        "outputId": "1c261848-2d42-4b49-9f40-0a056d3b68c9"
      },
      "source": [
        "# Por iterações\n",
        "bissection(f1, 0.0, 2.0, None, 14, 'iteration')"
      ],
      "execution_count": null,
      "outputs": [
        {
          "output_type": "stream",
          "text": [
            "For  1  iterations: x =  1.0\n",
            "For  2  iterations: x =  1.5\n",
            "For  3  iterations: x =  1.25\n",
            "For  4  iterations: x =  1.375\n",
            "For  5  iterations: x =  1.3125\n",
            "For  6  iterations: x =  1.34375\n",
            "For  7  iterations: x =  1.328125\n",
            "For  8  iterations: x =  1.3203125\n",
            "For  9  iterations: x =  1.32421875\n",
            "For  10  iterations: x =  1.322265625\n",
            "For  11  iterations: x =  1.3232421875\n",
            "For  12  iterations: x =  1.32373046875\n",
            "For  13  iterations: x =  1.323486328125\n",
            "For  14  iterations: x =  1.3233642578125\n"
          ],
          "name": "stdout"
        },
        {
          "output_type": "execute_result",
          "data": {
            "text/plain": [
              "1.3233642578125"
            ]
          },
          "metadata": {},
          "execution_count": 63
        }
      ]
    },
    {
      "cell_type": "markdown",
      "metadata": {
        "id": "LFCZrxsk4lOM"
      },
      "source": [
        "##Questão 2 – Determine por meio do método da falsa posição, corretamente, até a quarta casa decimal, a menor raiz positiva, da equação f(x) = x^2 - cos(x)"
      ]
    },
    {
      "cell_type": "code",
      "metadata": {
        "id": "NsEQcZT-4uxp",
        "colab": {
          "base_uri": "https://localhost:8080/",
          "height": 295
        },
        "outputId": "ccc6360d-f685-4894-ad4e-28a614abd373"
      },
      "source": [
        "f2 = lambda x: x**2 - math.cos(x)\n",
        "plota(0, 2, 100, f2, 'green', 'Questão 2')"
      ],
      "execution_count": null,
      "outputs": [
        {
          "output_type": "display_data",
          "data": {
            "image/png": "[encoded data removed]",
            "text/plain": [
              "<Figure size 432x288 with 1 Axes>"
            ]
          },
          "metadata": {
            "needs_background": "light"
          }
        }
      ]
    },
    {
      "cell_type": "code",
      "metadata": {
        "colab": {
          "base_uri": "https://localhost:8080/"
        },
        "id": "LjrkMQT9jnMC",
        "outputId": "71c68f12-174c-4656-83ca-1d7efacb7b9f"
      },
      "source": [
        "# Por precisão truncado\n",
        "false_position(f2, 0, 2, 0.0001, None, 'precisao', 'truncate')"
      ],
      "execution_count": null,
      "outputs": [
        {
          "output_type": "stream",
          "text": [
            "For  1  iterations: x =  0.3692  - truncated\n",
            "For  2  iterations: x =  1.8122  - truncated\n",
            "For  3  iterations: x =  0.4006  - truncated\n",
            "For  4  iterations: x =  1.6713  - truncated\n",
            "For  5  iterations: x =  0.4292  - truncated\n",
            "For  6  iterations: x =  1.5611  - truncated\n",
            "For  7  iterations: x =  0.4554  - truncated\n",
            "For  8  iterations: x =  1.472  - truncated\n",
            "For  9  iterations: x =  0.4797  - truncated\n",
            "For  10  iterations: x =  1.3985  - truncated\n",
            "For  11  iterations: x =  0.5022  - truncated\n",
            "For  12  iterations: x =  1.3365  - truncated\n",
            "For  13  iterations: x =  0.5232  - truncated\n",
            "For  14  iterations: x =  1.2837  - truncated\n",
            "For  15  iterations: x =  0.5428  - truncated\n",
            "For  16  iterations: x =  1.2381  - truncated\n",
            "For  17  iterations: x =  0.5611  - truncated\n",
            "For  18  iterations: x =  1.1984  - truncated\n",
            "For  19  iterations: x =  0.5782  - truncated\n",
            "For  20  iterations: x =  1.1635  - truncated\n",
            "For  21  iterations: x =  0.5943  - truncated\n",
            "For  22  iterations: x =  1.1326  - truncated\n",
            "For  23  iterations: x =  0.6093  - truncated\n",
            "For  24  iterations: x =  1.1052  - truncated\n",
            "For  25  iterations: x =  0.6234  - truncated\n",
            "For  26  iterations: x =  1.0807  - truncated\n",
            "For  27  iterations: x =  0.6367  - truncated\n",
            "For  28  iterations: x =  1.0588  - truncated\n",
            "For  29  iterations: x =  0.6491  - truncated\n",
            "For  30  iterations: x =  1.039  - truncated\n",
            "For  31  iterations: x =  0.6607  - truncated\n",
            "For  32  iterations: x =  1.0211  - truncated\n",
            "For  33  iterations: x =  0.6716  - truncated\n",
            "For  34  iterations: x =  1.005  - truncated\n",
            "For  35  iterations: x =  0.6818  - truncated\n",
            "For  36  iterations: x =  0.9903  - truncated\n",
            "For  37  iterations: x =  0.6913  - truncated\n",
            "For  38  iterations: x =  0.977  - truncated\n",
            "For  39  iterations: x =  0.7003  - truncated\n",
            "For  40  iterations: x =  0.9648  - truncated\n",
            "For  41  iterations: x =  0.7087  - truncated\n",
            "For  42  iterations: x =  0.9537  - truncated\n",
            "For  43  iterations: x =  0.7165  - truncated\n",
            "For  44  iterations: x =  0.9435  - truncated\n",
            "For  45  iterations: x =  0.7239  - truncated\n",
            "For  46  iterations: x =  0.9342  - truncated\n",
            "For  47  iterations: x =  0.7307  - truncated\n",
            "For  48  iterations: x =  0.9257  - truncated\n",
            "For  49  iterations: x =  0.7371  - truncated\n",
            "For  50  iterations: x =  0.9179  - truncated\n",
            "For  51  iterations: x =  0.7431  - truncated\n",
            "For  52  iterations: x =  0.9107  - truncated\n",
            "For  53  iterations: x =  0.7487  - truncated\n",
            "For  54  iterations: x =  0.9042  - truncated\n",
            "For  55  iterations: x =  0.7539  - truncated\n",
            "For  56  iterations: x =  0.8981  - truncated\n",
            "For  57  iterations: x =  0.7588  - truncated\n",
            "For  58  iterations: x =  0.8925  - truncated\n",
            "For  59  iterations: x =  0.7633  - truncated\n",
            "For  60  iterations: x =  0.8874  - truncated\n",
            "For  61  iterations: x =  0.7676  - truncated\n",
            "For  62  iterations: x =  0.8826  - truncated\n",
            "For  63  iterations: x =  0.7715  - truncated\n",
            "For  64  iterations: x =  0.8782  - truncated\n",
            "For  65  iterations: x =  0.7752  - truncated\n",
            "For  66  iterations: x =  0.8742  - truncated\n",
            "For  67  iterations: x =  0.7786  - truncated\n",
            "For  68  iterations: x =  0.8705  - truncated\n",
            "For  69  iterations: x =  0.7818  - truncated\n",
            "For  70  iterations: x =  0.867  - truncated\n",
            "For  71  iterations: x =  0.7848  - truncated\n",
            "For  72  iterations: x =  0.8639  - truncated\n",
            "For  73  iterations: x =  0.7876  - truncated\n",
            "For  74  iterations: x =  0.8609  - truncated\n",
            "For  75  iterations: x =  0.7901  - truncated\n",
            "For  76  iterations: x =  0.8582  - truncated\n",
            "For  77  iterations: x =  0.7925  - truncated\n",
            "For  78  iterations: x =  0.8557  - truncated\n",
            "For  79  iterations: x =  0.7948  - truncated\n",
            "For  80  iterations: x =  0.8534  - truncated\n",
            "For  81  iterations: x =  0.7969  - truncated\n",
            "For  82  iterations: x =  0.8512  - truncated\n",
            "For  83  iterations: x =  0.7988  - truncated\n",
            "For  84  iterations: x =  0.8492  - truncated\n",
            "For  85  iterations: x =  0.8006  - truncated\n",
            "For  86  iterations: x =  0.8474  - truncated\n",
            "For  87  iterations: x =  0.8023  - truncated\n",
            "For  88  iterations: x =  0.8457  - truncated\n",
            "For  89  iterations: x =  0.8038  - truncated\n",
            "For  90  iterations: x =  0.8441  - truncated\n",
            "For  91  iterations: x =  0.8053  - truncated\n",
            "For  92  iterations: x =  0.8426  - truncated\n",
            "For  93  iterations: x =  0.8066  - truncated\n",
            "For  94  iterations: x =  0.8413  - truncated\n",
            "For  95  iterations: x =  0.8079  - truncated\n",
            "For  96  iterations: x =  0.84  - truncated\n",
            "For  97  iterations: x =  0.809  - truncated\n",
            "For  98  iterations: x =  0.8389  - truncated\n",
            "For  99  iterations: x =  0.8101  - truncated\n",
            "For  100  iterations: x =  0.8378  - truncated\n",
            "For  101  iterations: x =  0.8111  - truncated\n",
            "For  102  iterations: x =  0.8368  - truncated\n",
            "For  103  iterations: x =  0.812  - truncated\n",
            "For  104  iterations: x =  0.8359  - truncated\n",
            "For  105  iterations: x =  0.8129  - truncated\n",
            "For  106  iterations: x =  0.835  - truncated\n",
            "For  107  iterations: x =  0.8137  - truncated\n",
            "For  108  iterations: x =  0.8342  - truncated\n",
            "For  109  iterations: x =  0.8144  - truncated\n",
            "For  110  iterations: x =  0.8335  - truncated\n",
            "For  111  iterations: x =  0.8151  - truncated\n",
            "For  112  iterations: x =  0.8328  - truncated\n",
            "For  113  iterations: x =  0.8158  - truncated\n",
            "For  114  iterations: x =  0.8322  - truncated\n",
            "For  115  iterations: x =  0.8164  - truncated\n",
            "For  116  iterations: x =  0.8316  - truncated\n",
            "For  117  iterations: x =  0.8169  - truncated\n",
            "For  118  iterations: x =  0.831  - truncated\n",
            "For  119  iterations: x =  0.8174  - truncated\n",
            "For  120  iterations: x =  0.8305  - truncated\n",
            "For  121  iterations: x =  0.8179  - truncated\n",
            "For  122  iterations: x =  0.8301  - truncated\n",
            "For  123  iterations: x =  0.8184  - truncated\n",
            "For  124  iterations: x =  0.8296  - truncated\n",
            "For  125  iterations: x =  0.8188  - truncated\n",
            "For  126  iterations: x =  0.8292  - truncated\n",
            "For  127  iterations: x =  0.8191  - truncated\n",
            "For  128  iterations: x =  0.8289  - truncated\n",
            "For  129  iterations: x =  0.8195  - truncated\n",
            "For  130  iterations: x =  0.8285  - truncated\n",
            "For  131  iterations: x =  0.8198  - truncated\n",
            "For  132  iterations: x =  0.8282  - truncated\n",
            "For  133  iterations: x =  0.8201  - truncated\n",
            "For  134  iterations: x =  0.8279  - truncated\n",
            "For  135  iterations: x =  0.8204  - truncated\n",
            "For  136  iterations: x =  0.8276  - truncated\n",
            "For  137  iterations: x =  0.8207  - truncated\n",
            "For  138  iterations: x =  0.8274  - truncated\n",
            "For  139  iterations: x =  0.8209  - truncated\n",
            "For  140  iterations: x =  0.8271  - truncated\n",
            "For  141  iterations: x =  0.8212  - truncated\n",
            "For  142  iterations: x =  0.8269  - truncated\n",
            "For  143  iterations: x =  0.8214  - truncated\n",
            "For  144  iterations: x =  0.8267  - truncated\n",
            "For  145  iterations: x =  0.8216  - truncated\n",
            "For  146  iterations: x =  0.8265  - truncated\n",
            "For  147  iterations: x =  0.8217  - truncated\n",
            "For  148  iterations: x =  0.8263  - truncated\n",
            "For  149  iterations: x =  0.8219  - truncated\n",
            "For  150  iterations: x =  0.8262  - truncated\n",
            "For  151  iterations: x =  0.8221  - truncated\n",
            "For  152  iterations: x =  0.826  - truncated\n",
            "For  153  iterations: x =  0.8222  - truncated\n",
            "For  154  iterations: x =  0.8259  - truncated\n",
            "For  155  iterations: x =  0.8223  - truncated\n",
            "For  156  iterations: x =  0.8258  - truncated\n",
            "For  157  iterations: x =  0.8225  - truncated\n",
            "For  158  iterations: x =  0.8256  - truncated\n",
            "For  159  iterations: x =  0.8226  - truncated\n",
            "For  160  iterations: x =  0.8255  - truncated\n",
            "For  161  iterations: x =  0.8227  - truncated\n",
            "For  162  iterations: x =  0.8254  - truncated\n",
            "For  163  iterations: x =  0.8228  - truncated\n",
            "For  164  iterations: x =  0.8253  - truncated\n",
            "For  165  iterations: x =  0.8229  - truncated\n",
            "For  166  iterations: x =  0.8252  - truncated\n",
            "For  167  iterations: x =  0.823  - truncated\n",
            "For  168  iterations: x =  0.8252  - truncated\n",
            "For  169  iterations: x =  0.8231  - truncated\n",
            "For  170  iterations: x =  0.8251  - truncated\n",
            "For  171  iterations: x =  0.8231  - truncated\n",
            "For  172  iterations: x =  0.825  - truncated\n",
            "For  173  iterations: x =  0.8232  - truncated\n",
            "For  174  iterations: x =  0.8249  - truncated\n",
            "For  175  iterations: x =  0.8233  - truncated\n",
            "For  176  iterations: x =  0.8249  - truncated\n",
            "For  177  iterations: x =  0.8233  - truncated\n",
            "For  178  iterations: x =  0.8248  - truncated\n",
            "For  179  iterations: x =  0.8234  - truncated\n",
            "For  180  iterations: x =  0.8248  - truncated\n",
            "For  181  iterations: x =  0.8234  - truncated\n",
            "For  182  iterations: x =  0.8247  - truncated\n",
            "For  183  iterations: x =  0.8235  - truncated\n",
            "For  184  iterations: x =  0.8247  - truncated\n",
            "For  185  iterations: x =  0.8235  - truncated\n",
            "For  186  iterations: x =  0.8246  - truncated\n",
            "For  187  iterations: x =  0.8236  - truncated\n",
            "For  188  iterations: x =  0.8246  - truncated\n",
            "For  189  iterations: x =  0.8236  - truncated\n",
            "For  190  iterations: x =  0.8246  - truncated\n",
            "For  191  iterations: x =  0.8236  - truncated\n",
            "For  192  iterations: x =  0.8245  - truncated\n",
            "For  193  iterations: x =  0.8237  - truncated\n",
            "For  194  iterations: x =  0.8245  - truncated\n",
            "For  195  iterations: x =  0.8237  - truncated\n",
            "For  196  iterations: x =  0.8245  - truncated\n",
            "For  197  iterations: x =  0.8237  - truncated\n",
            "For  198  iterations: x =  0.8244  - truncated\n",
            "For  199  iterations: x =  0.8237  - truncated\n",
            "For  200  iterations: x =  0.8244  - truncated\n",
            "For  201  iterations: x =  0.8238  - truncated\n",
            "For  202  iterations: x =  0.8244  - truncated\n",
            "For  203  iterations: x =  0.8238  - truncated\n",
            "For  204  iterations: x =  0.8244  - truncated\n",
            "For  205  iterations: x =  0.8238  - truncated\n",
            "For  206  iterations: x =  0.8243  - truncated\n",
            "For  207  iterations: x =  0.8238  - truncated\n",
            "For  208  iterations: x =  0.8243  - truncated\n",
            "For  209  iterations: x =  0.8239  - truncated\n",
            "For  210  iterations: x =  0.8243  - truncated\n",
            "For  211  iterations: x =  0.8239  - truncated\n",
            "For  212  iterations: x =  0.8243  - truncated\n",
            "For  213  iterations: x =  0.8239  - truncated\n",
            "For  214  iterations: x =  0.8243  - truncated\n",
            "For  215  iterations: x =  0.8239  - truncated\n",
            "For  216  iterations: x =  0.8243  - truncated\n",
            "For  217  iterations: x =  0.8239  - truncated\n",
            "For  218  iterations: x =  0.8242  - truncated\n",
            "For  219  iterations: x =  0.8239  - truncated\n",
            "For  220  iterations: x =  0.8242  - truncated\n",
            "For  221  iterations: x =  0.8239  - truncated\n",
            "For  222  iterations: x =  0.8242  - truncated\n",
            "For  223  iterations: x =  0.8239  - truncated\n",
            "For  224  iterations: x =  0.8242  - truncated\n",
            "For  225  iterations: x =  0.824  - truncated\n",
            "For  226  iterations: x =  0.8242  - truncated\n",
            "For  227  iterations: x =  0.824  - truncated\n",
            "For  228  iterations: x =  0.8242  - truncated\n",
            "For  229  iterations: x =  0.824  - truncated\n",
            "For  230  iterations: x =  0.8242  - truncated\n",
            "For  231  iterations: x =  0.824  - truncated\n",
            "For  232  iterations: x =  0.8242  - truncated\n",
            "For  233  iterations: x =  0.824  - truncated\n",
            "For  234  iterations: x =  0.8242  - truncated\n",
            "For  235  iterations: x =  0.824  - truncated\n",
            "For  236  iterations: x =  0.8242  - truncated\n",
            "For  237  iterations: x =  0.824  - truncated\n",
            "For  238  iterations: x =  0.8242  - truncated\n",
            "For  239  iterations: x =  0.824  - truncated\n",
            "For  240  iterations: x =  0.8242  - truncated\n",
            "For  241  iterations: x =  0.824  - truncated\n",
            "For  242  iterations: x =  0.8241  - truncated\n",
            "For  243  iterations: x =  0.824  - truncated\n",
            "For  244  iterations: x =  0.8241  - truncated\n",
            "For  245  iterations: x =  0.824  - truncated\n",
            "For  246  iterations: x =  0.8241  - truncated\n",
            "For  247  iterations: x =  0.824  - truncated\n",
            "For  248  iterations: x =  0.8241  - truncated\n",
            "For  249  iterations: x =  0.824  - truncated\n",
            "For  250  iterations: x =  0.8241  - truncated\n",
            "For  251  iterations: x =  0.824  - truncated\n",
            "For  252  iterations: x =  0.8241  - truncated\n",
            "For  253  iterations: x =  0.824  - truncated\n",
            "For  254  iterations: x =  0.8241  - truncated\n",
            "For  255  iterations: x =  0.824  - truncated\n"
          ],
          "name": "stdout"
        },
        {
          "output_type": "execute_result",
          "data": {
            "text/plain": [
              "0.824"
            ]
          },
          "metadata": {},
          "execution_count": 45
        }
      ]
    },
    {
      "cell_type": "code",
      "metadata": {
        "colab": {
          "base_uri": "https://localhost:8080/"
        },
        "id": "5M1tmKpEggYI",
        "outputId": "4e3d2caf-9a49-4244-981a-f5cb06f3a7b8"
      },
      "source": [
        "# Por precisão arredondado\n",
        "false_position(f2, 0, 2, 0.0001, None, 'precisao', 'round')"
      ],
      "execution_count": null,
      "outputs": [
        {
          "output_type": "stream",
          "text": [
            "For  1  iterations: x =  0.3693  - rounded\n",
            "For  2  iterations: x =  1.8122  - rounded\n",
            "For  3  iterations: x =  0.4006  - rounded\n",
            "For  4  iterations: x =  1.6714  - rounded\n",
            "For  5  iterations: x =  0.4292  - rounded\n",
            "For  6  iterations: x =  1.5611  - rounded\n",
            "For  7  iterations: x =  0.4555  - rounded\n",
            "For  8  iterations: x =  1.4721  - rounded\n",
            "For  9  iterations: x =  0.4797  - rounded\n",
            "For  10  iterations: x =  1.3985  - rounded\n",
            "For  11  iterations: x =  0.5023  - rounded\n",
            "For  12  iterations: x =  1.3366  - rounded\n",
            "For  13  iterations: x =  0.5232  - rounded\n",
            "For  14  iterations: x =  1.2838  - rounded\n",
            "For  15  iterations: x =  0.5428  - rounded\n",
            "For  16  iterations: x =  1.2382  - rounded\n",
            "For  17  iterations: x =  0.5611  - rounded\n",
            "For  18  iterations: x =  1.1984  - rounded\n",
            "For  19  iterations: x =  0.5783  - rounded\n",
            "For  20  iterations: x =  1.1635  - rounded\n",
            "For  21  iterations: x =  0.5943  - rounded\n",
            "For  22  iterations: x =  1.1327  - rounded\n",
            "For  23  iterations: x =  0.6094  - rounded\n",
            "For  24  iterations: x =  1.1053  - rounded\n",
            "For  25  iterations: x =  0.6235  - rounded\n",
            "For  26  iterations: x =  1.0808  - rounded\n",
            "For  27  iterations: x =  0.6367  - rounded\n",
            "For  28  iterations: x =  1.0588  - rounded\n",
            "For  29  iterations: x =  0.6491  - rounded\n",
            "For  30  iterations: x =  1.039  - rounded\n",
            "For  31  iterations: x =  0.6607  - rounded\n",
            "For  32  iterations: x =  1.0212  - rounded\n",
            "For  33  iterations: x =  0.6716  - rounded\n",
            "For  34  iterations: x =  1.005  - rounded\n",
            "For  35  iterations: x =  0.6818  - rounded\n",
            "For  36  iterations: x =  0.9903  - rounded\n",
            "For  37  iterations: x =  0.6914  - rounded\n",
            "For  38  iterations: x =  0.977  - rounded\n",
            "For  39  iterations: x =  0.7003  - rounded\n",
            "For  40  iterations: x =  0.9648  - rounded\n",
            "For  41  iterations: x =  0.7087  - rounded\n",
            "For  42  iterations: x =  0.9537  - rounded\n",
            "For  43  iterations: x =  0.7166  - rounded\n",
            "For  44  iterations: x =  0.9436  - rounded\n",
            "For  45  iterations: x =  0.7239  - rounded\n",
            "For  46  iterations: x =  0.9343  - rounded\n",
            "For  47  iterations: x =  0.7308  - rounded\n",
            "For  48  iterations: x =  0.9258  - rounded\n",
            "For  49  iterations: x =  0.7372  - rounded\n",
            "For  50  iterations: x =  0.918  - rounded\n",
            "For  51  iterations: x =  0.7432  - rounded\n",
            "For  52  iterations: x =  0.9108  - rounded\n",
            "For  53  iterations: x =  0.7487  - rounded\n",
            "For  54  iterations: x =  0.9042  - rounded\n",
            "For  55  iterations: x =  0.754  - rounded\n",
            "For  56  iterations: x =  0.8981  - rounded\n",
            "For  57  iterations: x =  0.7588  - rounded\n",
            "For  58  iterations: x =  0.8925  - rounded\n",
            "For  59  iterations: x =  0.7634  - rounded\n",
            "For  60  iterations: x =  0.8874  - rounded\n",
            "For  61  iterations: x =  0.7676  - rounded\n",
            "For  62  iterations: x =  0.8827  - rounded\n",
            "For  63  iterations: x =  0.7716  - rounded\n",
            "For  64  iterations: x =  0.8783  - rounded\n",
            "For  65  iterations: x =  0.7752  - rounded\n",
            "For  66  iterations: x =  0.8742  - rounded\n",
            "For  67  iterations: x =  0.7787  - rounded\n",
            "For  68  iterations: x =  0.8705  - rounded\n",
            "For  69  iterations: x =  0.7819  - rounded\n",
            "For  70  iterations: x =  0.8671  - rounded\n",
            "For  71  iterations: x =  0.7848  - rounded\n",
            "For  72  iterations: x =  0.8639  - rounded\n",
            "For  73  iterations: x =  0.7876  - rounded\n",
            "For  74  iterations: x =  0.861  - rounded\n",
            "For  75  iterations: x =  0.7902  - rounded\n",
            "For  76  iterations: x =  0.8583  - rounded\n",
            "For  77  iterations: x =  0.7926  - rounded\n",
            "For  78  iterations: x =  0.8557  - rounded\n",
            "For  79  iterations: x =  0.7948  - rounded\n",
            "For  80  iterations: x =  0.8534  - rounded\n",
            "For  81  iterations: x =  0.7969  - rounded\n",
            "For  82  iterations: x =  0.8513  - rounded\n",
            "For  83  iterations: x =  0.7988  - rounded\n",
            "For  84  iterations: x =  0.8493  - rounded\n",
            "For  85  iterations: x =  0.8006  - rounded\n",
            "For  86  iterations: x =  0.8474  - rounded\n",
            "For  87  iterations: x =  0.8023  - rounded\n",
            "For  88  iterations: x =  0.8457  - rounded\n",
            "For  89  iterations: x =  0.8039  - rounded\n",
            "For  90  iterations: x =  0.8442  - rounded\n",
            "For  91  iterations: x =  0.8053  - rounded\n",
            "For  92  iterations: x =  0.8427  - rounded\n",
            "For  93  iterations: x =  0.8067  - rounded\n",
            "For  94  iterations: x =  0.8413  - rounded\n",
            "For  95  iterations: x =  0.8079  - rounded\n",
            "For  96  iterations: x =  0.8401  - rounded\n",
            "For  97  iterations: x =  0.8091  - rounded\n",
            "For  98  iterations: x =  0.8389  - rounded\n",
            "For  99  iterations: x =  0.8101  - rounded\n",
            "For  100  iterations: x =  0.8378  - rounded\n",
            "For  101  iterations: x =  0.8111  - rounded\n",
            "For  102  iterations: x =  0.8369  - rounded\n",
            "For  103  iterations: x =  0.8121  - rounded\n",
            "For  104  iterations: x =  0.8359  - rounded\n",
            "For  105  iterations: x =  0.8129  - rounded\n",
            "For  106  iterations: x =  0.8351  - rounded\n",
            "For  107  iterations: x =  0.8137  - rounded\n",
            "For  108  iterations: x =  0.8343  - rounded\n",
            "For  109  iterations: x =  0.8145  - rounded\n",
            "For  110  iterations: x =  0.8335  - rounded\n",
            "For  111  iterations: x =  0.8152  - rounded\n",
            "For  112  iterations: x =  0.8329  - rounded\n",
            "For  113  iterations: x =  0.8158  - rounded\n",
            "For  114  iterations: x =  0.8322  - rounded\n",
            "For  115  iterations: x =  0.8164  - rounded\n",
            "For  116  iterations: x =  0.8316  - rounded\n",
            "For  117  iterations: x =  0.817  - rounded\n",
            "For  118  iterations: x =  0.8311  - rounded\n",
            "For  119  iterations: x =  0.8175  - rounded\n",
            "For  120  iterations: x =  0.8306  - rounded\n",
            "For  121  iterations: x =  0.818  - rounded\n",
            "For  122  iterations: x =  0.8301  - rounded\n",
            "For  123  iterations: x =  0.8184  - rounded\n",
            "For  124  iterations: x =  0.8297  - rounded\n",
            "For  125  iterations: x =  0.8188  - rounded\n",
            "For  126  iterations: x =  0.8293  - rounded\n",
            "For  127  iterations: x =  0.8192  - rounded\n",
            "For  128  iterations: x =  0.8289  - rounded\n",
            "For  129  iterations: x =  0.8196  - rounded\n",
            "For  130  iterations: x =  0.8286  - rounded\n",
            "For  131  iterations: x =  0.8199  - rounded\n",
            "For  132  iterations: x =  0.8282  - rounded\n",
            "For  133  iterations: x =  0.8202  - rounded\n",
            "For  134  iterations: x =  0.828  - rounded\n",
            "For  135  iterations: x =  0.8205  - rounded\n",
            "For  136  iterations: x =  0.8277  - rounded\n",
            "For  137  iterations: x =  0.8207  - rounded\n",
            "For  138  iterations: x =  0.8274  - rounded\n",
            "For  139  iterations: x =  0.821  - rounded\n",
            "For  140  iterations: x =  0.8272  - rounded\n",
            "For  141  iterations: x =  0.8212  - rounded\n",
            "For  142  iterations: x =  0.827  - rounded\n",
            "For  143  iterations: x =  0.8214  - rounded\n",
            "For  144  iterations: x =  0.8268  - rounded\n",
            "For  145  iterations: x =  0.8216  - rounded\n",
            "For  146  iterations: x =  0.8266  - rounded\n",
            "For  147  iterations: x =  0.8218  - rounded\n",
            "For  148  iterations: x =  0.8264  - rounded\n",
            "For  149  iterations: x =  0.822  - rounded\n",
            "For  150  iterations: x =  0.8262  - rounded\n",
            "For  151  iterations: x =  0.8221  - rounded\n",
            "For  152  iterations: x =  0.8261  - rounded\n",
            "For  153  iterations: x =  0.8223  - rounded\n",
            "For  154  iterations: x =  0.8259  - rounded\n",
            "For  155  iterations: x =  0.8224  - rounded\n",
            "For  156  iterations: x =  0.8258  - rounded\n",
            "For  157  iterations: x =  0.8225  - rounded\n",
            "For  158  iterations: x =  0.8257  - rounded\n",
            "For  159  iterations: x =  0.8226  - rounded\n",
            "For  160  iterations: x =  0.8256  - rounded\n",
            "For  161  iterations: x =  0.8227  - rounded\n",
            "For  162  iterations: x =  0.8255  - rounded\n",
            "For  163  iterations: x =  0.8228  - rounded\n",
            "For  164  iterations: x =  0.8254  - rounded\n",
            "For  165  iterations: x =  0.8229  - rounded\n",
            "For  166  iterations: x =  0.8253  - rounded\n",
            "For  167  iterations: x =  0.823  - rounded\n",
            "For  168  iterations: x =  0.8252  - rounded\n",
            "For  169  iterations: x =  0.8231  - rounded\n",
            "For  170  iterations: x =  0.8251  - rounded\n",
            "For  171  iterations: x =  0.8232  - rounded\n",
            "For  172  iterations: x =  0.8251  - rounded\n",
            "For  173  iterations: x =  0.8232  - rounded\n",
            "For  174  iterations: x =  0.825  - rounded\n",
            "For  175  iterations: x =  0.8233  - rounded\n",
            "For  176  iterations: x =  0.8249  - rounded\n",
            "For  177  iterations: x =  0.8234  - rounded\n",
            "For  178  iterations: x =  0.8249  - rounded\n",
            "For  179  iterations: x =  0.8234  - rounded\n",
            "For  180  iterations: x =  0.8248  - rounded\n",
            "For  181  iterations: x =  0.8235  - rounded\n",
            "For  182  iterations: x =  0.8248  - rounded\n",
            "For  183  iterations: x =  0.8235  - rounded\n",
            "For  184  iterations: x =  0.8247  - rounded\n",
            "For  185  iterations: x =  0.8236  - rounded\n",
            "For  186  iterations: x =  0.8247  - rounded\n",
            "For  187  iterations: x =  0.8236  - rounded\n",
            "For  188  iterations: x =  0.8246  - rounded\n",
            "For  189  iterations: x =  0.8236  - rounded\n",
            "For  190  iterations: x =  0.8246  - rounded\n",
            "For  191  iterations: x =  0.8237  - rounded\n",
            "For  192  iterations: x =  0.8246  - rounded\n",
            "For  193  iterations: x =  0.8237  - rounded\n",
            "For  194  iterations: x =  0.8245  - rounded\n",
            "For  195  iterations: x =  0.8237  - rounded\n",
            "For  196  iterations: x =  0.8245  - rounded\n",
            "For  197  iterations: x =  0.8238  - rounded\n",
            "For  198  iterations: x =  0.8245  - rounded\n",
            "For  199  iterations: x =  0.8238  - rounded\n",
            "For  200  iterations: x =  0.8245  - rounded\n",
            "For  201  iterations: x =  0.8238  - rounded\n",
            "For  202  iterations: x =  0.8244  - rounded\n",
            "For  203  iterations: x =  0.8238  - rounded\n",
            "For  204  iterations: x =  0.8244  - rounded\n",
            "For  205  iterations: x =  0.8239  - rounded\n",
            "For  206  iterations: x =  0.8244  - rounded\n",
            "For  207  iterations: x =  0.8239  - rounded\n",
            "For  208  iterations: x =  0.8244  - rounded\n",
            "For  209  iterations: x =  0.8239  - rounded\n",
            "For  210  iterations: x =  0.8244  - rounded\n",
            "For  211  iterations: x =  0.8239  - rounded\n",
            "For  212  iterations: x =  0.8243  - rounded\n",
            "For  213  iterations: x =  0.8239  - rounded\n",
            "For  214  iterations: x =  0.8243  - rounded\n",
            "For  215  iterations: x =  0.8239  - rounded\n",
            "For  216  iterations: x =  0.8243  - rounded\n",
            "For  217  iterations: x =  0.824  - rounded\n",
            "For  218  iterations: x =  0.8243  - rounded\n",
            "For  219  iterations: x =  0.824  - rounded\n",
            "For  220  iterations: x =  0.8243  - rounded\n",
            "For  221  iterations: x =  0.824  - rounded\n",
            "For  222  iterations: x =  0.8243  - rounded\n",
            "For  223  iterations: x =  0.824  - rounded\n",
            "For  224  iterations: x =  0.8243  - rounded\n",
            "For  225  iterations: x =  0.824  - rounded\n",
            "For  226  iterations: x =  0.8243  - rounded\n",
            "For  227  iterations: x =  0.824  - rounded\n",
            "For  228  iterations: x =  0.8242  - rounded\n",
            "For  229  iterations: x =  0.824  - rounded\n",
            "For  230  iterations: x =  0.8242  - rounded\n",
            "For  231  iterations: x =  0.824  - rounded\n",
            "For  232  iterations: x =  0.8242  - rounded\n",
            "For  233  iterations: x =  0.824  - rounded\n",
            "For  234  iterations: x =  0.8242  - rounded\n",
            "For  235  iterations: x =  0.824  - rounded\n",
            "For  236  iterations: x =  0.8242  - rounded\n",
            "For  237  iterations: x =  0.8241  - rounded\n",
            "For  238  iterations: x =  0.8242  - rounded\n",
            "For  239  iterations: x =  0.8241  - rounded\n",
            "For  240  iterations: x =  0.8242  - rounded\n",
            "For  241  iterations: x =  0.8241  - rounded\n",
            "For  242  iterations: x =  0.8242  - rounded\n",
            "For  243  iterations: x =  0.8241  - rounded\n",
            "For  244  iterations: x =  0.8242  - rounded\n",
            "For  245  iterations: x =  0.8241  - rounded\n",
            "For  246  iterations: x =  0.8242  - rounded\n",
            "For  247  iterations: x =  0.8241  - rounded\n",
            "For  248  iterations: x =  0.8242  - rounded\n",
            "For  249  iterations: x =  0.8241  - rounded\n",
            "For  250  iterations: x =  0.8242  - rounded\n",
            "For  251  iterations: x =  0.8241  - rounded\n",
            "For  252  iterations: x =  0.8242  - rounded\n",
            "For  253  iterations: x =  0.8241  - rounded\n",
            "For  254  iterations: x =  0.8242  - rounded\n",
            "For  255  iterations: x =  0.8241  - rounded\n"
          ],
          "name": "stdout"
        },
        {
          "output_type": "execute_result",
          "data": {
            "text/plain": [
              "0.8241"
            ]
          },
          "metadata": {},
          "execution_count": 46
        }
      ]
    },
    {
      "cell_type": "code",
      "metadata": {
        "colab": {
          "base_uri": "https://localhost:8080/"
        },
        "id": "QRbWfYaKoL5i",
        "outputId": "afa5dec4-923d-42a3-9d3e-d57c699e63db"
      },
      "source": [
        "# Por iteracoes\n",
        "false_position(f2, 0, 2, None, 250, 'iteration')"
      ],
      "execution_count": null,
      "outputs": [
        {
          "output_type": "stream",
          "text": [
            "For  1  iterations: x =  0.3692662072055313\n",
            "For  2  iterations: x =  1.8122153000361276\n",
            "For  3  iterations: x =  0.4006485018635363\n",
            "For  4  iterations: x =  1.6713816568479891\n",
            "For  5  iterations: x =  0.42922718333761584\n",
            "For  6  iterations: x =  1.5611194299728757\n",
            "For  7  iterations: x =  0.4554798471522557\n",
            "For  8  iterations: x =  1.4720827925997115\n",
            "For  9  iterations: x =  0.47974419056919204\n",
            "For  10  iterations: x =  1.398502036911321\n",
            "For  11  iterations: x =  0.5022696820159149\n",
            "For  12  iterations: x =  1.3365961657814296\n",
            "For  13  iterations: x =  0.523247523824334\n",
            "For  14  iterations: x =  1.2837689384456363\n",
            "For  15  iterations: x =  0.5428289803472788\n",
            "For  16  iterations: x =  1.2381693986344808\n",
            "For  17  iterations: x =  0.5611370912196177\n",
            "For  18  iterations: x =  1.1984365538174606\n",
            "For  19  iterations: x =  0.5782744291756529\n",
            "For  20  iterations: x =  1.1635434832476403\n",
            "For  21  iterations: x =  0.5943283894831723\n",
            "For  22  iterations: x =  1.1326981404590648\n",
            "For  23  iterations: x =  0.6093748824300791\n",
            "For  24  iterations: x =  1.1052779911704433\n",
            "For  25  iterations: x =  0.6234809607630217\n",
            "For  26  iterations: x =  1.0807856406265244\n",
            "For  27  iterations: x =  0.6367067184709599\n",
            "For  28  iterations: x =  1.0588179214241826\n",
            "For  29  iterations: x =  0.6491066803756529\n",
            "For  30  iterations: x =  1.039043866212082\n",
            "For  31  iterations: x =  0.6607308296543054\n",
            "For  32  iterations: x =  1.0211886952440836\n",
            "For  33  iterations: x =  0.6716253742950251\n",
            "For  34  iterations: x =  1.0050219678800403\n",
            "For  35  iterations: x =  0.681833323260365\n",
            "For  36  iterations: x =  0.990348674619504\n",
            "For  37  iterations: x =  0.6913949228309325\n",
            "For  38  iterations: x =  0.9770024430595596\n",
            "For  39  iterations: x =  0.7003479896531895\n",
            "For  40  iterations: x =  0.9648402881539869\n",
            "For  41  iterations: x =  0.7087281672379155\n",
            "For  42  iterations: x =  0.9537385071961056\n",
            "For  43  iterations: x =  0.7165691256767572\n",
            "For  44  iterations: x =  0.94358943467114\n",
            "For  45  iterations: x =  0.723902719283372\n",
            "For  46  iterations: x =  0.9342988509018421\n",
            "For  47  iterations: x =  0.7307591131456409\n",
            "For  48  iterations: x =  0.9257838933842604\n",
            "For  49  iterations: x =  0.7371668868100996\n",
            "For  50  iterations: x =  0.9179713586423256\n",
            "For  51  iterations: x =  0.7431531212456938\n",
            "For  52  iterations: x =  0.9107963103777367\n",
            "For  53  iterations: x =  0.748743473668119\n",
            "For  54  iterations: x =  0.9042009300069122\n",
            "For  55  iterations: x =  0.7539622436187463\n",
            "For  56  iterations: x =  0.8981335606157604\n",
            "For  57  iterations: x =  0.7588324327901095\n",
            "For  58  iterations: x =  0.8925479064670137\n",
            "For  59  iterations: x =  0.7633758004047919\n",
            "For  60  iterations: x =  0.887402358531077\n",
            "For  61  iterations: x =  0.7676129154354845\n",
            "For  62  iterations: x =  0.8826594228281581\n",
            "For  63  iterations: x =  0.7715632065627037\n",
            "For  64  iterations: x =  0.8782852331978364\n",
            "For  65  iterations: x =  0.7752450104739866\n",
            "For  66  iterations: x =  0.8742491338330892\n",
            "For  67  iterations: x =  0.7786756188918402\n",
            "For  68  iterations: x =  0.8705233198052073\n",
            "For  69  iterations: x =  0.7818713245598987\n",
            "For  70  iterations: x =  0.8670825260659867\n",
            "For  71  iterations: x =  0.7848474663040426\n",
            "For  72  iterations: x =  0.8639037571933046\n",
            "For  73  iterations: x =  0.7876184732070214\n",
            "For  74  iterations: x =  0.8609660515567357\n",
            "For  75  iterations: x =  0.790197907883066\n",
            "For  76  iterations: x =  0.8582502747047085\n",
            "For  77  iterations: x =  0.7925985088065315\n",
            "For  78  iterations: x =  0.8557389376768951\n",
            "For  79  iterations: x =  0.7948322316306924\n",
            "For  80  iterations: x =  0.8534160366731909\n",
            "For  81  iterations: x =  0.7969102894254028\n",
            "For  82  iterations: x =  0.851266911100644\n",
            "For  83  iterations: x =  0.7988431917623944\n",
            "For  84  iterations: x =  0.8492781175004994\n",
            "For  85  iterations: x =  0.8006407825821052\n",
            "For  86  iterations: x =  0.847437317251271\n",
            "For  87  iterations: x =  0.8023122767843377\n",
            "For  88  iterations: x =  0.8457331762677102\n",
            "For  89  iterations: x =  0.803866295495353\n",
            "For  90  iterations: x =  0.8441552751832871\n",
            "For  91  iterations: x =  0.8053108999752412\n",
            "For  92  iterations: x =  0.84269402872605\n",
            "For  93  iterations: x =  0.8066536241408097\n",
            "For  94  iterations: x =  0.8413406131830019\n",
            "For  95  iterations: x =  0.8079015056903193\n",
            "For  96  iterations: x =  0.8400869010032052\n",
            "For  97  iterations: x =  0.8090611158268011\n",
            "For  98  iterations: x =  0.8389254017201393\n",
            "For  99  iterations: x =  0.8101385875861958\n",
            "For  100  iterations: x =  0.8378492084837671\n",
            "For  101  iterations: x =  0.8111396427850626\n",
            "For  102  iterations: x =  0.8368519495858433\n",
            "For  103  iterations: x =  0.8120696176100204\n",
            "For  104  iterations: x =  0.8359277444411011\n",
            "For  105  iterations: x =  0.8129334868774436\n",
            "For  106  iterations: x =  0.8350711635544142\n",
            "For  107  iterations: x =  0.8137358869972503\n",
            "For  108  iterations: x =  0.8342771920617592\n",
            "For  109  iterations: x =  0.8144811376789555\n",
            "For  110  iterations: x =  0.8335411964823716\n",
            "For  111  iterations: x =  0.8151732624216015\n",
            "For  112  iterations: x =  0.8328588943621946\n",
            "For  113  iterations: x =  0.8158160078317794\n",
            "For  114  iterations: x =  0.8322263265256199\n",
            "For  115  iterations: x =  0.8164128618158386\n",
            "For  116  iterations: x =  0.8316398316845065\n",
            "For  117  iterations: x =  0.8169670706935975\n",
            "For  118  iterations: x =  0.8310960231812852\n",
            "For  119  iterations: x =  0.81748165528153\n",
            "For  120  iterations: x =  0.8305917676672044\n",
            "For  121  iterations: x =  0.8179594259935629\n",
            "For  122  iterations: x =  0.8301241655379937\n",
            "For  123  iterations: x =  0.8184029970073758\n",
            "For  124  iterations: x =  0.8296905329678131\n",
            "For  125  iterations: x =  0.8188147995434932\n",
            "For  126  iterations: x =  0.8292883853987228\n",
            "For  127  iterations: x =  0.8191970943035731\n",
            "For  128  iterations: x =  0.82891542235732\n",
            "For  129  iterations: x =  0.8195519831131735\n",
            "For  130  iterations: x =  0.8285695134829406\n",
            "For  131  iterations: x =  0.8198814198129764\n",
            "For  132  iterations: x =  0.8282486856631106\n",
            "For  133  iterations: x =  0.8201872204409913\n",
            "For  134  iterations: x =  0.8279511111819606\n",
            "For  135  iterations: x =  0.8204710727467112\n",
            "For  136  iterations: x =  0.8276750967962423\n",
            "For  137  iterations: x =  0.8207345450765514\n",
            "For  138  iterations: x =  0.8274190736615502\n",
            "For  139  iterations: x =  0.820979094668232\n",
            "For  140  iterations: x =  0.8271815880384614\n",
            "For  141  iterations: x =  0.8212060753900494\n",
            "For  142  iterations: x =  0.826961292714692\n",
            "For  143  iterations: x =  0.8214167449592747\n",
            "For  144  iterations: x =  0.8267569390850805\n",
            "For  145  iterations: x =  0.8216122716722183\n",
            "For  146  iterations: x =  0.8265673698363574\n",
            "For  147  iterations: x =  0.8217937406768154\n",
            "For  148  iterations: x =  0.8263915121882952\n",
            "For  149  iterations: x =  0.8219621598169511\n",
            "For  150  iterations: x =  0.8262283716470102\n",
            "For  151  iterations: x =  0.8221184650761341\n",
            "For  152  iterations: x =  0.8260770262299721\n",
            "For  153  iterations: x =  0.8222635256465842\n",
            "For  154  iterations: x =  0.8259366211256896\n",
            "For  155  iterations: x =  0.8223981486482954\n",
            "For  156  iterations: x =  0.8258063637541493\n",
            "For  157  iterations: x =  0.8225230835211959\n",
            "For  158  iterations: x =  0.825685519196896\n",
            "For  159  iterations: x =  0.8226390261121462\n",
            "For  160  iterations: x =  0.8255734059682008\n",
            "For  161  iterations: x =  0.8227466224772017\n",
            "For  162  iterations: x =  0.8254693921010918\n",
            "For  163  iterations: x =  0.8228464724182971\n",
            "For  164  iterations: x =  0.8253728915241493\n",
            "For  165  iterations: x =  0.8229391327723291\n",
            "For  166  iterations: x =  0.8252833607068937\n",
            "For  167  iterations: x =  0.8230251204694662\n",
            "For  168  iterations: x =  0.8252002955533747\n",
            "For  169  iterations: x =  0.8231049153764464\n",
            "For  170  iterations: x =  0.8251232285251764\n",
            "For  171  iterations: x =  0.8231789629396092\n",
            "For  172  iterations: x =  0.8250517259765348\n",
            "For  173  iterations: x =  0.8232476766414417\n",
            "For  174  iterations: x =  0.8249853856856254\n",
            "For  175  iterations: x =  0.8233114402835249\n",
            "For  176  iterations: x =  0.8249238345673087\n",
            "For  177  iterations: x =  0.823370610107906\n",
            "For  178  iterations: x =  0.824866726553771\n",
            "For  179  iterations: x =  0.8234255167681273\n",
            "For  180  iterations: x =  0.8248137406305397\n",
            "For  181  iterations: x =  0.8234764671603904\n",
            "For  182  iterations: x =  0.8247645790163094\n",
            "For  183  iterations: x =  0.8235237461246256\n",
            "For  184  iterations: x =  0.8247189654759103\n",
            "For  185  iterations: x =  0.8235676180245793\n",
            "For  186  iterations: x =  0.8246766437565461\n",
            "For  187  iterations: x =  0.8236083282154093\n",
            "For  188  iterations: x =  0.8246373761381938\n",
            "For  189  iterations: x =  0.8236461044066993\n",
            "For  190  iterations: x =  0.8246009420897337\n",
            "For  191  iterations: x =  0.8236811579282601\n",
            "For  192  iterations: x =  0.8245671370230221\n",
            "For  193  iterations: x =  0.8237136849055797\n",
            "For  194  iterations: x =  0.8245357711376964\n",
            "For  195  iterations: x =  0.8237438673513081\n",
            "For  196  iterations: x =  0.824506668350048\n",
            "For  197  iterations: x =  0.8237718741787192\n",
            "For  198  iterations: x =  0.8244796652997964\n",
            "For  199  iterations: x =  0.8237978621426848\n",
            "For  200  iterations: x =  0.8244546104290504\n",
            "For  201  iterations: x =  0.823821976713301\n",
            "For  202  iterations: x =  0.8244313631281761\n",
            "For  203  iterations: x =  0.8238443528869559\n",
            "For  204  iterations: x =  0.8244097929436781\n",
            "For  205  iterations: x =  0.8238651159392858\n",
            "For  206  iterations: x =  0.8243897788435643\n",
            "For  207  iterations: x =  0.8238843821241624\n",
            "For  208  iterations: x =  0.824371208535996\n",
            "For  209  iterations: x =  0.8239022593225517\n",
            "For  210  iterations: x =  0.8243539778373415\n",
            "For  211  iterations: x =  0.8239188476448248\n",
            "For  212  iterations: x =  0.8243379900860318\n",
            "For  213  iterations: x =  0.8239342399898423\n",
            "For  214  iterations: x =  0.8243231555988815\n",
            "For  215  iterations: x =  0.8239485225638993\n",
            "For  216  iterations: x =  0.8243093911667894\n",
            "For  217  iterations: x =  0.8239617753624036\n",
            "For  218  iterations: x =  0.8242966195869502\n",
            "For  219  iterations: x =  0.8239740726169487\n",
            "For  220  iterations: x =  0.8242847692289299\n",
            "For  221  iterations: x =  0.823985483210263\n",
            "For  222  iterations: x =  0.8242737736321387\n",
            "For  223  iterations: x =  0.8239960710613344\n",
            "For  224  iterations: x =  0.8242635711324272\n",
            "For  225  iterations: x =  0.8240058954828434\n",
            "For  226  iterations: x =  0.8242541045156917\n",
            "For  227  iterations: x =  0.8240150115128971\n",
            "For  228  iterations: x =  0.8242453206965276\n",
            "For  229  iterations: x =  0.8240234702229015\n",
            "For  230  iterations: x =  0.8242371704201161\n",
            "For  231  iterations: x =  0.8240313190032849\n",
            "For  232  iterations: x =  0.824229607985663\n",
            "For  233  iterations: x =  0.8240386018286664\n",
            "For  234  iterations: x =  0.8242225909898225\n",
            "For  235  iterations: x =  0.8240453595039374\n",
            "For  236  iterations: x =  0.8242160800886658\n",
            "For  237  iterations: x =  0.824051629892636\n",
            "For  238  iterations: x =  0.8242100387768443\n",
            "For  239  iterations: x =  0.8240574481288793\n",
            "For  240  iterations: x =  0.8242044331827101\n",
            "For  241  iterations: x =  0.8240628468140376\n",
            "For  242  iterations: x =  0.8241992318782341\n",
            "For  243  iterations: x =  0.8240678561992499\n",
            "For  244  iterations: x =  0.8241944057026525\n",
            "For  245  iterations: x =  0.824072504354794\n",
            "For  246  iterations: x =  0.82418992759885\n",
            "For  247  iterations: x =  0.8240768173272595\n",
            "For  248  iterations: x =  0.8241857724615573\n",
            "For  249  iterations: x =  0.8240808192854006\n",
            "For  250  iterations: x =  0.8241819169965098\n"
          ],
          "name": "stdout"
        },
        {
          "output_type": "execute_result",
          "data": {
            "text/plain": [
              "0.8241819169965098"
            ]
          },
          "metadata": {},
          "execution_count": 47
        }
      ]
    },
    {
      "cell_type": "markdown",
      "metadata": {
        "id": "oz27YBGa40x7"
      },
      "source": [
        "##Questão 3 – Determine por meio do método da tangente, corretamente, até a quarta casa decimal, a menor raiz positiva, da equação f(x) = x^5 - x -1"
      ]
    },
    {
      "cell_type": "code",
      "metadata": {
        "id": "YTxoIvXk41RW",
        "colab": {
          "base_uri": "https://localhost:8080/",
          "height": 295
        },
        "outputId": "52159859-b383-4ab6-9cc0-04f3b7564679"
      },
      "source": [
        "# Calcula a derivada\n",
        "x3 = Symbol('x')\n",
        "y3 = x3**5 - x3 - 1\n",
        "y3prime = y3.diff(x3)\n",
        "\n",
        "# Transforma em uma função lambda\n",
        "f3 = lambdify(x3, y3, 'numpy')\n",
        "f3prime = lambdify(x3, y3prime, 'numpy')\n",
        "\n",
        "plota(1, 1.25, 100, f3, 'blue','Questão 3')"
      ],
      "execution_count": null,
      "outputs": [
        {
          "output_type": "display_data",
          "data": {
            "image/png": "[encoded data removed]",
            "text/plain": [
              "<Figure size 432x288 with 1 Axes>"
            ]
          },
          "metadata": {
            "needs_background": "light"
          }
        }
      ]
    },
    {
      "cell_type": "code",
      "metadata": {
        "colab": {
          "base_uri": "https://localhost:8080/"
        },
        "id": "PNJZfdh2gPle",
        "outputId": "70f8f9a4-6c1b-41ed-fe4f-3b4f0c3a3940"
      },
      "source": [
        "newton_raphson(f3, f3prime, 1.0, 0.0001, None, 'precisao')"
      ],
      "execution_count": null,
      "outputs": [
        {
          "output_type": "stream",
          "text": [
            "For  1  iterations: x =  1.1784  - truncated\n",
            "For  2  iterations: x =  1.1675  - truncated\n",
            "For  3  iterations: x =  1.1673  - truncated\n"
          ],
          "name": "stdout"
        },
        {
          "output_type": "execute_result",
          "data": {
            "text/plain": [
              "1.1673"
            ]
          },
          "metadata": {},
          "execution_count": 49
        }
      ]
    },
    {
      "cell_type": "code",
      "metadata": {
        "colab": {
          "base_uri": "https://localhost:8080/"
        },
        "id": "VOW-caQ9gvcL",
        "outputId": "084ab062-bc96-45bf-e0b3-6e5de069f6e3"
      },
      "source": [
        "newton_raphson(f3, f3prime, 1.0, 0.0001, None, 'precisao', 'round')"
      ],
      "execution_count": null,
      "outputs": [
        {
          "output_type": "stream",
          "text": [
            "For  1  iterations: x =  1.1785  - rounded\n",
            "For  2  iterations: x =  1.1675  - rounded\n",
            "For  3  iterations: x =  1.1673  - rounded\n"
          ],
          "name": "stdout"
        },
        {
          "output_type": "execute_result",
          "data": {
            "text/plain": [
              "1.1673"
            ]
          },
          "metadata": {},
          "execution_count": 50
        }
      ]
    },
    {
      "cell_type": "code",
      "metadata": {
        "colab": {
          "base_uri": "https://localhost:8080/"
        },
        "id": "TzmY7ng3mcu2",
        "outputId": "85220784-b9f6-42ef-a5b1-736ee4b42caa"
      },
      "source": [
        "newton_raphson(f3, f3prime, 1.0, None, 3, 'iteration')"
      ],
      "execution_count": null,
      "outputs": [
        {
          "output_type": "stream",
          "text": [
            "For  1  iterations: x =  1.1784593935169048\n",
            "For  2  iterations: x =  1.16753738939611\n",
            "For  3  iterations: x =  1.1673040828230083\n"
          ],
          "name": "stdout"
        },
        {
          "output_type": "execute_result",
          "data": {
            "text/plain": [
              "1.1673040828230083"
            ]
          },
          "metadata": {},
          "execution_count": 51
        }
      ]
    },
    {
      "cell_type": "markdown",
      "metadata": {
        "id": "qCoibUqY4_Wq"
      },
      "source": [
        "##Questão 4 – Determine por meio do método da secante, corretamente, até a quarta casa decimal, a menor raiz positiva, da equação f(x) = 3/(1+x^2) - 1/(2x^3)"
      ]
    },
    {
      "cell_type": "code",
      "metadata": {
        "id": "KSvKLU6c4_E1",
        "colab": {
          "base_uri": "https://localhost:8080/",
          "height": 295
        },
        "outputId": "d257a9d1-71ba-4332-d223-3e5768d8a6bc"
      },
      "source": [
        "f4 = lambda x: 3 / (1+x**2) -  1 / (2*(x**3))\n",
        "plota(0.25, 1, 100, f4, 'orange', 'Questão 4', 2)"
      ],
      "execution_count": null,
      "outputs": [
        {
          "output_type": "display_data",
          "data": {
            "image/png": "[encoded data removed]",
            "text/plain": [
              "<Figure size 432x288 with 1 Axes>"
            ]
          },
          "metadata": {
            "needs_background": "light"
          }
        }
      ]
    },
    {
      "cell_type": "code",
      "metadata": {
        "colab": {
          "base_uri": "https://localhost:8080/"
        },
        "id": "BavFqLpGn-lb",
        "outputId": "6858d622-f6aa-42ab-b0d9-e8f63146f4a6"
      },
      "source": [
        "secant(f4, 0.1, 0.8, 0.0001, None, 'precisao', 'truncate')"
      ],
      "execution_count": null,
      "outputs": [
        {
          "output_type": "stream",
          "text": [
            "For  1  iterations: x =  0.3482  - truncated\n",
            "For  2  iterations: x =  0.7605  - truncated\n",
            "For  3  iterations: x =  0.7287  - truncated\n",
            "For  4  iterations: x =  0.5089  - truncated\n",
            "For  5  iterations: x =  0.6581  - truncated\n",
            "For  6  iterations: x =  0.6291  - truncated\n",
            "For  7  iterations: x =  0.6084  - truncated\n",
            "For  8  iterations: x =  0.6121  - truncated\n",
            "For  9  iterations: x =  0.6118  - truncated\n"
          ],
          "name": "stdout"
        },
        {
          "output_type": "execute_result",
          "data": {
            "text/plain": [
              "0.6118"
            ]
          },
          "metadata": {},
          "execution_count": 53
        }
      ]
    },
    {
      "cell_type": "code",
      "metadata": {
        "colab": {
          "base_uri": "https://localhost:8080/"
        },
        "id": "vrFvpEFbmPtV",
        "outputId": "cbfc8311-4fad-4e46-920b-7f2cb946da34"
      },
      "source": [
        "secant(f4, 0.1, 0.8, 0.0001, None, 'precisao', 'round')"
      ],
      "execution_count": null,
      "outputs": [
        {
          "output_type": "stream",
          "text": [
            "For  1  iterations: x =  0.3483  - rounded\n",
            "For  2  iterations: x =  0.7605  - rounded\n",
            "For  3  iterations: x =  0.7288  - rounded\n",
            "For  4  iterations: x =  0.509  - rounded\n",
            "For  5  iterations: x =  0.6581  - rounded\n",
            "For  6  iterations: x =  0.6292  - rounded\n",
            "For  7  iterations: x =  0.6084  - rounded\n",
            "For  8  iterations: x =  0.6121  - rounded\n",
            "For  9  iterations: x =  0.6119  - rounded\n"
          ],
          "name": "stdout"
        },
        {
          "output_type": "execute_result",
          "data": {
            "text/plain": [
              "0.6119"
            ]
          },
          "metadata": {},
          "execution_count": 54
        }
      ]
    },
    {
      "cell_type": "code",
      "metadata": {
        "colab": {
          "base_uri": "https://localhost:8080/"
        },
        "id": "gDnG3Nrvh27p",
        "outputId": "72a998c6-01f4-42aa-83b9-ba1521d94a30"
      },
      "source": [
        "secant(f4, 0.1, 0.8, None, 9, 'iteration')"
      ],
      "execution_count": null,
      "outputs": [
        {
          "output_type": "stream",
          "text": [
            "For  1  iterations: x =  0.34828591871376713\n",
            "For  2  iterations: x =  0.7605249863078698\n",
            "For  3  iterations: x =  0.7287865938066402\n",
            "For  4  iterations: x =  0.5089553550841888\n",
            "For  5  iterations: x =  0.6581387700756525\n",
            "For  6  iterations: x =  0.6291958122243828\n",
            "For  7  iterations: x =  0.6084027061858228\n",
            "For  8  iterations: x =  0.6121005843700225\n",
            "For  9  iterations: x =  0.6118616357170454\n"
          ],
          "name": "stdout"
        },
        {
          "output_type": "execute_result",
          "data": {
            "text/plain": [
              "0.6118616357170454"
            ]
          },
          "metadata": {},
          "execution_count": 55
        }
      ]
    },
    {
      "cell_type": "markdown",
      "metadata": {
        "id": "CQ_E_Y1lesyJ"
      },
      "source": [
        "##Questão 5 – Determine a menor raiz positiva de f(x) = ln(x^2) - 0,7\n",
        "\n",
        "1. Graficamente\n",
        "2. Usando o método da bissecção (três iterações, x0=0,5 e x1=2)\n",
        "3. Usando o método da falsa posição (três iterações, x0=0,5 e x1=2)\n",
        "4. Discuta sobre os resultados obtidos"
      ]
    },
    {
      "cell_type": "code",
      "metadata": {
        "id": "bjpjR_eIew2H",
        "colab": {
          "base_uri": "https://localhost:8080/",
          "height": 295
        },
        "outputId": "6885be68-81f0-4e85-8250-66c681da2dbf"
      },
      "source": [
        "f5 = lambda x: math.log(x**2) - 0.7\n",
        "plota(0.1, 5, 100, f5, 'brown', 'Questão 5')"
      ],
      "execution_count": null,
      "outputs": [
        {
          "output_type": "display_data",
          "data": {
            "image/png": "[encoded data removed]",
            "text/plain": [
              "<Figure size 432x288 with 1 Axes>"
            ]
          },
          "metadata": {
            "needs_background": "light"
          }
        }
      ]
    },
    {
      "cell_type": "code",
      "metadata": {
        "colab": {
          "base_uri": "https://localhost:8080/"
        },
        "id": "NB7MsxVx1AgU",
        "outputId": "6ae5f6a4-8073-46d6-9005-f7e9d88278e0"
      },
      "source": [
        "bissection(f5, 0.5, 2, None, 3, 'iteracoes')"
      ],
      "execution_count": null,
      "outputs": [
        {
          "output_type": "stream",
          "text": [
            "For  1  iterations: x =  1.25\n",
            "For  2  iterations: x =  1.625\n",
            "For  3  iterations: x =  1.4375\n"
          ],
          "name": "stdout"
        },
        {
          "output_type": "execute_result",
          "data": {
            "text/plain": [
              "1.4375"
            ]
          },
          "metadata": {},
          "execution_count": 57
        }
      ]
    },
    {
      "cell_type": "code",
      "metadata": {
        "colab": {
          "base_uri": "https://localhost:8080/"
        },
        "id": "KlB5lIi71Sx-",
        "outputId": "4985ca6b-f886-4186-84be-24b90ffe66c7"
      },
      "source": [
        "false_position(f5, 0.5, 2, None, 3, 'iteracoes')"
      ],
      "execution_count": null,
      "outputs": [
        {
          "output_type": "stream",
          "text": [
            "For  1  iterations: x =  1.6287074482333528\n",
            "For  2  iterations: x =  1.3795884843104\n",
            "For  3  iterations: x =  1.426725122584835\n"
          ],
          "name": "stdout"
        },
        {
          "output_type": "execute_result",
          "data": {
            "text/plain": [
              "1.426725122584835"
            ]
          },
          "metadata": {},
          "execution_count": 58
        }
      ]
    },
    {
      "cell_type": "markdown",
      "metadata": {
        "id": "z7yjBjTG2AVE"
      },
      "source": [
        "### Discussão dos resultados da Questão 5\n",
        "\n",
        "Dada as mesmas condições o método da falsa posição chega mais perto do resultado real. O que é espero já que ele é uma melhoria do método da bisseção. Mas claro que isso não é uma regra, e o método da bisseção pode ser melhor em alguns casos\n"
      ]
    },
    {
      "cell_type": "markdown",
      "metadata": {
        "id": "N7FFTWPD5lqK"
      },
      "source": [
        "##Questão 6 – Determine a menor raiz positiva de f(x) = 7sen(x)e^-1 - 1\n",
        "\n",
        "1. Graficamente\n",
        "2. Usando o método da tangente (três iterações, x0=0,3)\n",
        "3. Usando o método da secante (três iterações, x0=0,5 e x1=0,4)\n",
        "4. Discuta sobre os resultados obtidos"
      ]
    },
    {
      "cell_type": "code",
      "metadata": {
        "id": "RfrAPgKr50X_",
        "colab": {
          "base_uri": "https://localhost:8080/",
          "height": 295
        },
        "outputId": "da9022ee-c023-48d9-fef9-25c0196fdd3c"
      },
      "source": [
        "my_e = 2.718281828459045\n",
        "f6 = lambda x: 7 * sin(x) * (my_e**-1) - 1\n",
        "plota(0, 10, 100, f6, 'pink', 'Questão 6',2)"
      ],
      "execution_count": null,
      "outputs": [
        {
          "output_type": "display_data",
          "data": {
            "image/png": "[encoded data removed]",
            "text/plain": [
              "<Figure size 432x288 with 1 Axes>"
            ]
          },
          "metadata": {
            "needs_background": "light"
          }
        }
      ]
    },
    {
      "cell_type": "code",
      "metadata": {
        "colab": {
          "base_uri": "https://localhost:8080/",
          "height": 89
        },
        "id": "zR9rbWai3duA",
        "outputId": "1520e227-1010-4542-c422-4716b474982e"
      },
      "source": [
        "# Errors:\n",
        "# AttributeError: 'Float' object has no attribute 'cos'\n",
        "\n",
        "  # x6 = Symbol('x')\n",
        "  # y6 = 7 * sin(x3) * (math.e**-1) - 1\n",
        "  # y6prime = y6.diff(x6)\n",
        "  # f6prime = lambdify(x6, y6prime, 'numpy')\n",
        "\n",
        "# TypeError: loop of ufunc does not support argument 0 of type Float which has no callable cos method\n",
        "\n",
        "\n",
        "# Calculando a derivada manualmente:\n",
        "f6prime = lambda x: 2.5751560882001 * cos(x)\n",
        "newton_raphson(f6, f6prime, 0.3, None, 3, 'iteracoes')"
      ],
      "execution_count": null,
      "outputs": [
        {
          "output_type": "stream",
          "text": [
            "For  1  iterations: x =  0.398813723971340\n",
            "For  2  iterations: x =  0.398814309428638\n",
            "For  3  iterations: x =  0.398814309428710\n"
          ],
          "name": "stdout"
        },
        {
          "output_type": "execute_result",
          "data": {
            "text/latex": "$\\displaystyle 0.39881430942871$",
            "text/plain": [
              "0.398814309428710"
            ]
          },
          "metadata": {},
          "execution_count": 60
        }
      ]
    },
    {
      "cell_type": "code",
      "metadata": {
        "colab": {
          "base_uri": "https://localhost:8080/",
          "height": 89
        },
        "id": "TP8n-1Yq70Kv",
        "outputId": "74528bc1-d604-4144-b34a-9f2bbd3ce7ec"
      },
      "source": [
        "secant(f6, 0.5, 0.4, None, 3, 'iteracoes')"
      ],
      "execution_count": null,
      "outputs": [
        {
          "output_type": "stream",
          "text": [
            "For  1  iterations: x =  0.398814316420182\n",
            "For  2  iterations: x =  0.398814309428752\n",
            "For  3  iterations: x =  0.398814309428711\n"
          ],
          "name": "stdout"
        },
        {
          "output_type": "execute_result",
          "data": {
            "text/latex": "$\\displaystyle 0.398814309428711$",
            "text/plain": [
              "0.398814309428711"
            ]
          },
          "metadata": {},
          "execution_count": 61
        }
      ]
    },
    {
      "cell_type": "markdown",
      "metadata": {
        "id": "X-NDsXmD8YuX"
      },
      "source": [
        "### Discussão dos resultados da Questão 6\n",
        "\n",
        "Dados as mesmas entradas para os métodos da tangente e.g. newton-raphson e o método da secante, eles se aproximam muito em seus resultados, não tendo diferença relevante, mas o método da secante se aproximou mais. O que não é muito esperado pois o método da tangente se aproxima do resultado mais rapidamente."
      ]
    }
  ]
}